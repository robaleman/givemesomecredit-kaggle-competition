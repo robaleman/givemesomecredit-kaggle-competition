{
 "cells": [
  {
   "cell_type": "markdown",
   "metadata": {},
   "source": [
    "# Group Project: Final Report"
   ]
  },
  {
   "cell_type": "markdown",
   "metadata": {},
   "source": [
    "##### Robert Aleman, Yanai Feldman, Huey Sun, Jacob Fontana"
   ]
  },
  {
   "cell_type": "markdown",
   "metadata": {},
   "source": [
    "Our task here is to design a binary classifier that can predict whether or not a potential borrower will default on their loan. We are given a dataset of 150,000 past borrowers, each labeled as to whether or not they had defaulted on their loan, along with 10 numeric variables about them. "
   ]
  },
  {
   "cell_type": "code",
   "execution_count": 2,
   "metadata": {},
   "outputs": [
    {
     "name": "stdout",
     "output_type": "stream",
     "text": [
      "package 'xgboost' successfully unpacked and MD5 sums checked\n",
      "\n",
      "The downloaded binary packages are in\n",
      "\tC:\\Users\\xon12\\AppData\\Local\\Temp\\RtmpY7FyjP\\downloaded_packages\n",
      "package 'bnstruct' successfully unpacked and MD5 sums checked\n",
      "\n",
      "The downloaded binary packages are in\n",
      "\tC:\\Users\\xon12\\AppData\\Local\\Temp\\RtmpY7FyjP\\downloaded_packages\n",
      "package 'plyr' successfully unpacked and MD5 sums checked\n",
      "\n",
      "The downloaded binary packages are in\n",
      "\tC:\\Users\\xon12\\AppData\\Local\\Temp\\RtmpY7FyjP\\downloaded_packages\n",
      "package 'ggplot2' successfully unpacked and MD5 sums checked\n",
      "\n",
      "The downloaded binary packages are in\n",
      "\tC:\\Users\\xon12\\AppData\\Local\\Temp\\RtmpY7FyjP\\downloaded_packages\n",
      "package 'caTools' successfully unpacked and MD5 sums checked\n",
      "\n",
      "The downloaded binary packages are in\n",
      "\tC:\\Users\\xon12\\AppData\\Local\\Temp\\RtmpY7FyjP\\downloaded_packages\n",
      "package 'glmnet' successfully unpacked and MD5 sums checked\n",
      "\n",
      "The downloaded binary packages are in\n",
      "\tC:\\Users\\xon12\\AppData\\Local\\Temp\\RtmpY7FyjP\\downloaded_packages\n",
      "package 'pROC' successfully unpacked and MD5 sums checked\n",
      "\n",
      "The downloaded binary packages are in\n",
      "\tC:\\Users\\xon12\\AppData\\Local\\Temp\\RtmpY7FyjP\\downloaded_packages\n",
      "package 'caret' successfully unpacked and MD5 sums checked\n",
      "\n",
      "The downloaded binary packages are in\n",
      "\tC:\\Users\\xon12\\AppData\\Local\\Temp\\RtmpY7FyjP\\downloaded_packages\n"
     ]
    }
   ],
   "source": [
    "install.packages('xgboost', repos='http://cran.us.r-project.org')\n",
    "install.packages('bnstruct', repos='http://cran.us.r-project.org')\n",
    "install.packages('plyr', repos='http://cran.us.r-project.org')\n",
    "install.packages('ggplot2', repos='http://cran.us.r-project.org')\n",
    "install.packages('caTools', repos='http://cran.us.r-project.org')\n",
    "install.packages('glmnet', repos='http://cran.us.r-project.org')\n",
    "install.packages('pROC', repos='http://cran.us.r-project.org')\n",
    "install.packages('caret', repos='http://cran.us.r-project.org')"
   ]
  },
  {
   "cell_type": "code",
   "execution_count": 18,
   "metadata": {},
   "outputs": [
    {
     "data": {
      "text/html": [
       "<table>\n",
       "<thead><tr><th scope=col>SeriousDlqin2yrs</th><th scope=col>RevolvingUtilizationOfUnsecuredLines</th><th scope=col>age</th><th scope=col>NumberOfTime30.59DaysPastDueNotWorse</th><th scope=col>DebtRatio</th><th scope=col>MonthlyIncome</th><th scope=col>NumberOfOpenCreditLinesAndLoans</th><th scope=col>NumberOfTimes90DaysLate</th><th scope=col>NumberRealEstateLoansOrLines</th><th scope=col>NumberOfTime60.89DaysPastDueNotWorse</th><th scope=col>NumberOfDependents</th></tr></thead>\n",
       "<tbody>\n",
       "\t<tr><td>1         </td><td>0.7661266 </td><td>45        </td><td>2         </td><td>0.80298213</td><td> 9120     </td><td>13        </td><td>0         </td><td>6         </td><td>0         </td><td>2         </td></tr>\n",
       "\t<tr><td>0         </td><td>0.9571510 </td><td>40        </td><td>0         </td><td>0.12187620</td><td> 2600     </td><td> 4        </td><td>0         </td><td>0         </td><td>0         </td><td>1         </td></tr>\n",
       "\t<tr><td>0         </td><td>0.6581801 </td><td>38        </td><td>1         </td><td>0.08511338</td><td> 3042     </td><td> 2        </td><td>1         </td><td>0         </td><td>0         </td><td>0         </td></tr>\n",
       "\t<tr><td>0         </td><td>0.2338098 </td><td>30        </td><td>0         </td><td>0.03604968</td><td> 3300     </td><td> 5        </td><td>0         </td><td>0         </td><td>0         </td><td>0         </td></tr>\n",
       "\t<tr><td>0         </td><td>0.9072394 </td><td>49        </td><td>1         </td><td>0.02492570</td><td>63588     </td><td> 7        </td><td>0         </td><td>1         </td><td>0         </td><td>0         </td></tr>\n",
       "\t<tr><td>0         </td><td>0.2131787 </td><td>74        </td><td>0         </td><td>0.37560697</td><td> 3500     </td><td> 3        </td><td>0         </td><td>1         </td><td>0         </td><td>1         </td></tr>\n",
       "</tbody>\n",
       "</table>\n"
      ],
      "text/latex": [
       "\\begin{tabular}{r|lllllllllll}\n",
       " SeriousDlqin2yrs & RevolvingUtilizationOfUnsecuredLines & age & NumberOfTime30.59DaysPastDueNotWorse & DebtRatio & MonthlyIncome & NumberOfOpenCreditLinesAndLoans & NumberOfTimes90DaysLate & NumberRealEstateLoansOrLines & NumberOfTime60.89DaysPastDueNotWorse & NumberOfDependents\\\\\n",
       "\\hline\n",
       "\t 1          & 0.7661266  & 45         & 2          & 0.80298213 &  9120      & 13         & 0          & 6          & 0          & 2         \\\\\n",
       "\t 0          & 0.9571510  & 40         & 0          & 0.12187620 &  2600      &  4         & 0          & 0          & 0          & 1         \\\\\n",
       "\t 0          & 0.6581801  & 38         & 1          & 0.08511338 &  3042      &  2         & 1          & 0          & 0          & 0         \\\\\n",
       "\t 0          & 0.2338098  & 30         & 0          & 0.03604968 &  3300      &  5         & 0          & 0          & 0          & 0         \\\\\n",
       "\t 0          & 0.9072394  & 49         & 1          & 0.02492570 & 63588      &  7         & 0          & 1          & 0          & 0         \\\\\n",
       "\t 0          & 0.2131787  & 74         & 0          & 0.37560697 &  3500      &  3         & 0          & 1          & 0          & 1         \\\\\n",
       "\\end{tabular}\n"
      ],
      "text/markdown": [
       "\n",
       "SeriousDlqin2yrs | RevolvingUtilizationOfUnsecuredLines | age | NumberOfTime30.59DaysPastDueNotWorse | DebtRatio | MonthlyIncome | NumberOfOpenCreditLinesAndLoans | NumberOfTimes90DaysLate | NumberRealEstateLoansOrLines | NumberOfTime60.89DaysPastDueNotWorse | NumberOfDependents | \n",
       "|---|---|---|---|---|---|\n",
       "| 1          | 0.7661266  | 45         | 2          | 0.80298213 |  9120      | 13         | 0          | 6          | 0          | 2          | \n",
       "| 0          | 0.9571510  | 40         | 0          | 0.12187620 |  2600      |  4         | 0          | 0          | 0          | 1          | \n",
       "| 0          | 0.6581801  | 38         | 1          | 0.08511338 |  3042      |  2         | 1          | 0          | 0          | 0          | \n",
       "| 0          | 0.2338098  | 30         | 0          | 0.03604968 |  3300      |  5         | 0          | 0          | 0          | 0          | \n",
       "| 0          | 0.9072394  | 49         | 1          | 0.02492570 | 63588      |  7         | 0          | 1          | 0          | 0          | \n",
       "| 0          | 0.2131787  | 74         | 0          | 0.37560697 |  3500      |  3         | 0          | 1          | 0          | 1          | \n",
       "\n",
       "\n"
      ],
      "text/plain": [
       "  SeriousDlqin2yrs RevolvingUtilizationOfUnsecuredLines age\n",
       "1 1                0.7661266                            45 \n",
       "2 0                0.9571510                            40 \n",
       "3 0                0.6581801                            38 \n",
       "4 0                0.2338098                            30 \n",
       "5 0                0.9072394                            49 \n",
       "6 0                0.2131787                            74 \n",
       "  NumberOfTime30.59DaysPastDueNotWorse DebtRatio  MonthlyIncome\n",
       "1 2                                    0.80298213  9120        \n",
       "2 0                                    0.12187620  2600        \n",
       "3 1                                    0.08511338  3042        \n",
       "4 0                                    0.03604968  3300        \n",
       "5 1                                    0.02492570 63588        \n",
       "6 0                                    0.37560697  3500        \n",
       "  NumberOfOpenCreditLinesAndLoans NumberOfTimes90DaysLate\n",
       "1 13                              0                      \n",
       "2  4                              0                      \n",
       "3  2                              1                      \n",
       "4  5                              0                      \n",
       "5  7                              0                      \n",
       "6  3                              0                      \n",
       "  NumberRealEstateLoansOrLines NumberOfTime60.89DaysPastDueNotWorse\n",
       "1 6                            0                                   \n",
       "2 0                            0                                   \n",
       "3 0                            0                                   \n",
       "4 0                            0                                   \n",
       "5 1                            0                                   \n",
       "6 1                            0                                   \n",
       "  NumberOfDependents\n",
       "1 2                 \n",
       "2 1                 \n",
       "3 0                 \n",
       "4 0                 \n",
       "5 0                 \n",
       "6 1                 "
      ]
     },
     "metadata": {},
     "output_type": "display_data"
    }
   ],
   "source": [
    "\n",
    "library(lattice)\n",
    "library(xgboost)\n",
    "library(bnstruct)\n",
    "library(plyr)\n",
    "library(ggplot2)\n",
    "library(caTools)\n",
    "library(caret)\n",
    "library(pROC)\n",
    "\n",
    "df <- read.csv(\"cs-training.csv\")\n",
    "df <- df[,2:length(df)]\n",
    "head(df)"
   ]
  },
  {
   "cell_type": "markdown",
   "metadata": {},
   "source": [
    "# Data Cleaning / Preprocessing "
   ]
  },
  {
   "cell_type": "markdown",
   "metadata": {},
   "source": [
    "We start by cleaning the data of its outliers and missing values. First let's look at our predictor variable:"
   ]
  },
  {
   "cell_type": "code",
   "execution_count": 8,
   "metadata": {},
   "outputs": [
    {
     "data": {
      "text/plain": [
       "\n",
       "     0      1 \n",
       "139974  10026 "
      ]
     },
     "metadata": {},
     "output_type": "display_data"
    },
    {
     "data": {
      "text/html": [
       "'Proportion: 0.06684'"
      ],
      "text/latex": [
       "'Proportion: 0.06684'"
      ],
      "text/markdown": [
       "'Proportion: 0.06684'"
      ],
      "text/plain": [
       "[1] \"Proportion: 0.06684\""
      ]
     },
     "metadata": {},
     "output_type": "display_data"
    }
   ],
   "source": [
    "table(df[,1])\n",
    "paste(\"Proportion:\", mean(df[,1]))"
   ]
  },
  {
   "cell_type": "markdown",
   "metadata": {},
   "source": [
    "We can see that we're dealing with a moderate/large-sized class imbalance. Depending on the model, we may need to do some class balancing through undersample, oversampling, or some other balancing technique. But for now, we'll pause on this and look at our 10 features:"
   ]
  },
  {
   "cell_type": "code",
   "execution_count": 9,
   "metadata": {},
   "outputs": [
    {
     "data": {
      "text/plain": [
       " RevolvingUtilizationOfUnsecuredLines      age       \n",
       " Min.   :    0.00                     Min.   :  0.0  \n",
       " 1st Qu.:    0.03                     1st Qu.: 41.0  \n",
       " Median :    0.15                     Median : 52.0  \n",
       " Mean   :    6.05                     Mean   : 52.3  \n",
       " 3rd Qu.:    0.56                     3rd Qu.: 63.0  \n",
       " Max.   :50708.00                     Max.   :109.0  \n",
       "                                                     \n",
       " NumberOfTime30.59DaysPastDueNotWorse   DebtRatio        MonthlyIncome    \n",
       " Min.   : 0.000                       Min.   :     0.0   Min.   :      0  \n",
       " 1st Qu.: 0.000                       1st Qu.:     0.2   1st Qu.:   3400  \n",
       " Median : 0.000                       Median :     0.4   Median :   5400  \n",
       " Mean   : 0.421                       Mean   :   353.0   Mean   :   6670  \n",
       " 3rd Qu.: 0.000                       3rd Qu.:     0.9   3rd Qu.:   8249  \n",
       " Max.   :98.000                       Max.   :329664.0   Max.   :3008750  \n",
       "                                                         NA's   :29731    \n",
       " NumberOfOpenCreditLinesAndLoans NumberOfTimes90DaysLate\n",
       " Min.   : 0.000                  Min.   : 0.000         \n",
       " 1st Qu.: 5.000                  1st Qu.: 0.000         \n",
       " Median : 8.000                  Median : 0.000         \n",
       " Mean   : 8.453                  Mean   : 0.266         \n",
       " 3rd Qu.:11.000                  3rd Qu.: 0.000         \n",
       " Max.   :58.000                  Max.   :98.000         \n",
       "                                                        \n",
       " NumberRealEstateLoansOrLines NumberOfTime60.89DaysPastDueNotWorse\n",
       " Min.   : 0.000               Min.   : 0.0000                     \n",
       " 1st Qu.: 0.000               1st Qu.: 0.0000                     \n",
       " Median : 1.000               Median : 0.0000                     \n",
       " Mean   : 1.018               Mean   : 0.2404                     \n",
       " 3rd Qu.: 2.000               3rd Qu.: 0.0000                     \n",
       " Max.   :54.000               Max.   :98.0000                     \n",
       "                                                                  \n",
       " NumberOfDependents\n",
       " Min.   : 0.000    \n",
       " 1st Qu.: 0.000    \n",
       " Median : 0.000    \n",
       " Mean   : 0.757    \n",
       " 3rd Qu.: 1.000    \n",
       " Max.   :20.000    \n",
       " NA's   :3924      "
      ]
     },
     "metadata": {},
     "output_type": "display_data"
    }
   ],
   "source": [
    "summary(df[,2:length(df)])"
   ]
  },
  {
   "cell_type": "markdown",
   "metadata": {},
   "source": [
    "We can see just from a quick glance at our data's interquartile ranges (IQR) that we are dealing with major outliers for most our features. We also plotted density curves and histograms that have been omitted from the final paper that also illuminated some of the distributions of our data. Two of our features in particular, MonthlyIncome and NumberOfDependents, have missing values that will require imputation, which we did with a k-nearest neighbors’ model. \n",
    "\n",
    "This model searches over the data set to find the elements that most closely resemble a data point’s non-missing features. The distance function used to determine element similarity was Euclidean, with the algorithm automatically normalizing the data before computation. If this missing feature was categorical, it was imputed with the mode of its k-nearest neighbors, if it was continuous, it was imputed with their median. We utilized a parameter of k=10. While classification tasks involving the algorithm tend to use lower numbers of neighbors, due to the propensity of class imbalances to skew categorization, this is less of an issue for regression. The choice of 10 was admittedly somewhat arbitrary, but lower values of k tend to introduce a lot of noise to feature determinations, as they are not sufficiently sampling the local structure. Now, we will examine the features more closely to see if any additional cleaning needs to be done."
   ]
  },
  {
   "cell_type": "code",
   "execution_count": null,
   "metadata": {},
   "outputs": [],
   "source": [
    "### Age"
   ]
  },
  {
   "cell_type": "markdown",
   "metadata": {},
   "source": [
    "Looking at the value counts and IQR for age:"
   ]
  },
  {
   "cell_type": "code",
   "execution_count": 36,
   "metadata": {},
   "outputs": [
    {
     "data": {
      "text/plain": [
       "   Min. 1st Qu.  Median    Mean 3rd Qu.    Max. \n",
       "    0.0    41.0    52.0    52.3    63.0   109.0 "
      ]
     },
     "metadata": {},
     "output_type": "display_data"
    }
   ],
   "source": [
    "summary(df$age)"
   ]
  },
  {
   "cell_type": "code",
   "execution_count": 37,
   "metadata": {},
   "outputs": [
    {
     "data": {
      "text/plain": [
       "\n",
       "   0   21   22   23   24   25   26   27   28   29   30   31   32   33   34   35 \n",
       "   1  183  434  641  816  953 1193 1338 1560 1702 1937 2038 2050 2239 2155 2246 \n",
       "  36   37   38   39   40   41   42   43   44   45   46   47   48   49   50   51 \n",
       "2379 2521 2631 2987 3093 3122 3082 3208 3294 3502 3714 3719 3806 3837 3753 3627 \n",
       "  52   53   54   55   56   57   58   59   60   61   62   63   64   65   66   67 \n",
       "3609 3648 3561 3416 3589 3375 3443 3280 3258 3522 3568 3719 3058 2594 2494 2503 \n",
       "  68   69   70   71   72   73   74   75   76   77   78   79   80   81   82   83 \n",
       "2235 1954 1777 1646 1649 1520 1451 1241 1183 1099 1054  981  876  774  647  512 \n",
       "  84   85   86   87   88   89   90   91   92   93   94   95   96   97   98   99 \n",
       " 480  483  407  357  313  276  198  154   93   87   47   45   18   17    6    9 \n",
       " 101  102  103  105  107  109 \n",
       "   3    3    3    1    1    2 "
      ]
     },
     "metadata": {},
     "output_type": "display_data"
    }
   ],
   "source": [
    "table(df$age)"
   ]
  },
  {
   "cell_type": "markdown",
   "metadata": {},
   "source": [
    "Age tends to have a somewhat reasonable distribution. There are a suspicious number of centenarians in my opinion but we decided that they're sufficiently plausible as to not necesitate modifying them. The only certainly incorrect data is that there is one person in the dataset with age 0, and because infants are not legally permitted to take out loans, we will impute that to the next youngest person in the dataset, which is 21."
   ]
  },
  {
   "cell_type": "code",
   "execution_count": 8,
   "metadata": {},
   "outputs": [],
   "source": [
    "df[df$age == 0,]$age <- min(df[df$age > 0,]$age)"
   ]
  },
  {
   "cell_type": "code",
   "execution_count": null,
   "metadata": {},
   "outputs": [],
   "source": []
  },
  {
   "cell_type": "markdown",
   "metadata": {},
   "source": [
    "## Monthly Income"
   ]
  },
  {
   "cell_type": "code",
   "execution_count": 9,
   "metadata": {},
   "outputs": [
    {
     "data": {
      "text/plain": [
       "   Min. 1st Qu.  Median    Mean 3rd Qu.    Max.    NA's \n",
       "      0    3400    5400    6670    8249 3008750   29731 "
      ]
     },
     "metadata": {},
     "output_type": "display_data"
    }
   ],
   "source": [
    "summary( df$MonthlyIncome )"
   ]
  },
  {
   "cell_type": "markdown",
   "metadata": {},
   "source": [
    "MonthlyIncome has nearly 30,000 missing values, and at 20% of the dataset, that's a lot of missing information. But there may be a reason for these missing values. We checked to see if the people with missing MonthlyIncome values have any special properties:"
   ]
  },
  {
   "cell_type": "code",
   "execution_count": 10,
   "metadata": {},
   "outputs": [
    {
     "data": {
      "text/plain": [
       " SeriousDlqin2yrs  RevolvingUtilizationOfUnsecuredLines      age        \n",
       " Min.   :0.00000   Min.   :    0.000                    Min.   : 21.00  \n",
       " 1st Qu.:0.00000   1st Qu.:    0.016                    1st Qu.: 46.00  \n",
       " Median :0.00000   Median :    0.082                    Median : 57.00  \n",
       " Mean   :0.05614   Mean   :    6.649                    Mean   : 56.36  \n",
       " 3rd Qu.:0.00000   3rd Qu.:    0.441                    3rd Qu.: 67.00  \n",
       " Max.   :1.00000   Max.   :22198.000                    Max.   :109.00  \n",
       "                                                                        \n",
       " NumberOfTime30.59DaysPastDueNotWorse   DebtRatio      MonthlyIncome  \n",
       " Min.   : 0.0000                      Min.   :     0   Min.   : NA    \n",
       " 1st Qu.: 0.0000                      1st Qu.:   123   1st Qu.: NA    \n",
       " Median : 0.0000                      Median :  1159   Median : NA    \n",
       " Mean   : 0.5799                      Mean   :  1673   Mean   :NaN    \n",
       " 3rd Qu.: 0.0000                      3rd Qu.:  2382   3rd Qu.: NA    \n",
       " Max.   :98.0000                      Max.   :329664   Max.   : NA    \n",
       "                                                       NA's   :29731  \n",
       " NumberOfOpenCreditLinesAndLoans NumberOfTimes90DaysLate\n",
       " Min.   : 0.000                  Min.   : 0.0000        \n",
       " 1st Qu.: 4.000                  1st Qu.: 0.0000        \n",
       " Median : 6.000                  Median : 0.0000        \n",
       " Mean   : 7.216                  Mean   : 0.4846        \n",
       " 3rd Qu.:10.000                  3rd Qu.: 0.0000        \n",
       " Max.   :45.000                  Max.   :98.0000        \n",
       "                                                        \n",
       " NumberRealEstateLoansOrLines NumberOfTime60.89DaysPastDueNotWorse\n",
       " Min.   : 0.0000              Min.   : 0.000                      \n",
       " 1st Qu.: 0.0000              1st Qu.: 0.000                      \n",
       " Median : 1.0000              Median : 0.000                      \n",
       " Mean   : 0.8715              Mean   : 0.453                      \n",
       " 3rd Qu.: 1.0000              3rd Qu.: 0.000                      \n",
       " Max.   :23.0000              Max.   :98.000                      \n",
       "                                                                  \n",
       " NumberOfDependents\n",
       " Min.   :0.000     \n",
       " 1st Qu.:0.000     \n",
       " Median :0.000     \n",
       " Mean   :0.316     \n",
       " 3rd Qu.:0.000     \n",
       " Max.   :9.000     \n",
       " NA's   :3924      "
      ]
     },
     "metadata": {},
     "output_type": "display_data"
    }
   ],
   "source": [
    "summary ( df[is.na(df$MonthlyIncome),] )"
   ]
  },
  {
   "cell_type": "markdown",
   "metadata": {},
   "source": [
    "Wow, it looks like the DebtRatio is significantly higher for those with missing incomes (a median DebtRatio of over 1,000!). This makes sense because DebtRatio is calculated as the amount of debt someone has divided by their income, so if they have a trivial income, we can expect abnormally high DebtRatios. Additionally, we later observed that out of those with high DebtRatios that didn't have missing MonthlyIncomes, their MonthlyIncomes were zero or near-zero. Our likely hypothesis is that missing MonthlyIncome values came from borrowers who left that field blank because they had low or no income. If we go with this theory, then one option is to just impute these missing values with zero. A better option was to use a hybrid of KNN and this idea: this imputer would first impute monthly incomes with sufficiently high debt ratios as zero, and then would use the KNN imputation for the rest of the missing values."
   ]
  },
  {
   "cell_type": "code",
   "execution_count": 7,
   "metadata": {},
   "outputs": [],
   "source": [
    "\n",
    "ImputeMonthlyIncomeWithZeroForHighDR <- function(df) {\n",
    "    df[df$DebtRatio > 150,]$MonthlyIncome <- 0\n",
    "    return (df)\n",
    "}"
   ]
  },
  {
   "cell_type": "code",
   "execution_count": null,
   "metadata": {},
   "outputs": [],
   "source": []
  },
  {
   "cell_type": "markdown",
   "metadata": {},
   "source": [
    "## Number of Dependents"
   ]
  },
  {
   "cell_type": "code",
   "execution_count": 14,
   "metadata": {},
   "outputs": [
    {
     "data": {
      "text/plain": [
       "   Min. 1st Qu.  Median    Mean 3rd Qu.    Max.    NA's \n",
       "  0.000   0.000   0.000   0.757   1.000  20.000    3924 "
      ]
     },
     "metadata": {},
     "output_type": "display_data"
    }
   ],
   "source": [
    "summary(df$NumberOfDependents)"
   ]
  },
  {
   "cell_type": "code",
   "execution_count": 15,
   "metadata": {},
   "outputs": [
    {
     "data": {
      "text/plain": [
       "\n",
       "    0     1     2     3     4     5     6     7     8     9    10    13    20 \n",
       "86902 26316 19522  9483  2862   746   158    51    24     5     5     1     1 "
      ]
     },
     "metadata": {},
     "output_type": "display_data"
    }
   ],
   "source": [
    "table(df$NumberOfDependents)"
   ]
  },
  {
   "cell_type": "markdown",
   "metadata": {},
   "source": [
    "The other variable with missing values was NumberOfDependents. There are about 4,000 missing values here (~2% of the dataset). Similar to MonthlyIncome, we can do a quick scan of the dataset of people with missing NumberOfDependents to see if they have any special properties:"
   ]
  },
  {
   "cell_type": "code",
   "execution_count": 16,
   "metadata": {
    "scrolled": true
   },
   "outputs": [
    {
     "data": {
      "text/plain": [
       " SeriousDlqin2yrs  RevolvingUtilizationOfUnsecuredLines      age        \n",
       " Min.   :0.00000   Min.   :    0.000                    Min.   : 21.00  \n",
       " 1st Qu.:0.00000   1st Qu.:    0.008                    1st Qu.: 48.00  \n",
       " Median :0.00000   Median :    0.047                    Median : 61.00  \n",
       " Mean   :0.04562   Mean   :   10.745                    Mean   : 59.59  \n",
       " 3rd Qu.:0.00000   3rd Qu.:    0.268                    3rd Qu.: 74.00  \n",
       " Max.   :1.00000   Max.   :10821.000                    Max.   :109.00  \n",
       "                                                                        \n",
       " NumberOfTime30.59DaysPastDueNotWorse   DebtRatio      MonthlyIncome \n",
       " Min.   : 0.0000                      Min.   :     0   Min.   : NA   \n",
       " 1st Qu.: 0.0000                      1st Qu.:    21   1st Qu.: NA   \n",
       " Median : 0.0000                      Median :   358   Median : NA   \n",
       " Mean   : 0.9083                      Mean   :  1084   Mean   :NaN   \n",
       " 3rd Qu.: 0.0000                      3rd Qu.:  1559   3rd Qu.: NA   \n",
       " Max.   :98.0000                      Max.   :220516   Max.   : NA   \n",
       "                                                       NA's   :3924  \n",
       " NumberOfOpenCreditLinesAndLoans NumberOfTimes90DaysLate\n",
       " Min.   : 0.000                  Min.   : 0.0000        \n",
       " 1st Qu.: 3.000                  1st Qu.: 0.0000        \n",
       " Median : 5.000                  Median : 0.0000        \n",
       " Mean   : 5.604                  Mean   : 0.8346        \n",
       " 3rd Qu.: 8.000                  3rd Qu.: 0.0000        \n",
       " Max.   :30.000                  Max.   :98.0000        \n",
       "                                                        \n",
       " NumberRealEstateLoansOrLines NumberOfTime60.89DaysPastDueNotWorse\n",
       " Min.   : 0.000               Min.   : 0.0000                     \n",
       " 1st Qu.: 0.000               1st Qu.: 0.0000                     \n",
       " Median : 0.000               Median : 0.0000                     \n",
       " Mean   : 0.591               Mean   : 0.8122                     \n",
       " 3rd Qu.: 1.000               3rd Qu.: 0.0000                     \n",
       " Max.   :15.000               Max.   :98.0000                     \n",
       "                                                                  \n",
       " NumberOfDependents\n",
       " Min.   : NA       \n",
       " 1st Qu.: NA       \n",
       " Median : NA       \n",
       " Mean   :NaN       \n",
       " 3rd Qu.: NA       \n",
       " Max.   : NA       \n",
       " NA's   :3924      "
      ]
     },
     "metadata": {},
     "output_type": "display_data"
    }
   ],
   "source": [
    "summary ( df[is.na(df$NumberOfDependents),] )"
   ]
  },
  {
   "cell_type": "markdown",
   "metadata": {},
   "source": [
    "Since all of the people with missing NumberOfDependents also have a missing MonthlyIncome, their DebtRatio is high as well. But other than that, they don't seem to have anything particularly unusual. So, we will use our KNN imputer."
   ]
  },
  {
   "cell_type": "code",
   "execution_count": null,
   "metadata": {},
   "outputs": [],
   "source": [
    "## RevolvingUtilizationOfUnsecuredLines"
   ]
  },
  {
   "cell_type": "code",
   "execution_count": 18,
   "metadata": {},
   "outputs": [
    {
     "data": {
      "text/plain": [
       "    Min.  1st Qu.   Median     Mean  3rd Qu.     Max. \n",
       "    0.00     0.03     0.15     6.05     0.56 50708.00 "
      ]
     },
     "metadata": {},
     "output_type": "display_data"
    }
   ],
   "source": [
    "summary ( df$RevolvingUtilizationOfUnsecuredLines )"
   ]
  },
  {
   "cell_type": "markdown",
   "metadata": {},
   "source": [
    "No missing or incorrect values for RevolvingUtilizationOfUnsecuredLines - however, there is a very notable amount of extremely high outliers. In fact, the mean of our data is higher than our 99th percentile. These could skew our model. To quickly check if there are any special propreties of those individuals with very high RevolvingUtilizationOfUnsecuredLines:"
   ]
  },
  {
   "cell_type": "code",
   "execution_count": 19,
   "metadata": {},
   "outputs": [
    {
     "data": {
      "text/html": [
       "223"
      ],
      "text/latex": [
       "223"
      ],
      "text/markdown": [
       "223"
      ],
      "text/plain": [
       "[1] 223"
      ]
     },
     "metadata": {},
     "output_type": "display_data"
    },
    {
     "data": {
      "text/plain": [
       " SeriousDlqin2yrs  RevolvingUtilizationOfUnsecuredLines      age       \n",
       " Min.   :0.00000   Min.   :  112                        Min.   :24.00  \n",
       " 1st Qu.:0.00000   1st Qu.: 1082                        1st Qu.:39.00  \n",
       " Median :0.00000   Median : 2159                        Median :48.00  \n",
       " Mean   :0.04933   Mean   : 3848                        Mean   :50.59  \n",
       " 3rd Qu.:0.00000   3rd Qu.: 4318                        3rd Qu.:62.50  \n",
       " Max.   :1.00000   Max.   :50708                        Max.   :87.00  \n",
       "                                                                       \n",
       " NumberOfTime30.59DaysPastDueNotWorse   DebtRatio         MonthlyIncome  \n",
       " Min.   :0.00                         Min.   :    0.001   Min.   :    0  \n",
       " 1st Qu.:0.00                         1st Qu.:    0.213   1st Qu.: 4800  \n",
       " Median :0.00                         Median :    0.381   Median : 7083  \n",
       " Mean   :0.13                         Mean   :  604.614   Mean   : 8629  \n",
       " 3rd Qu.:0.00                         3rd Qu.:   81.500   3rd Qu.:10400  \n",
       " Max.   :2.00                         Max.   :21395.000   Max.   :44472  \n",
       "                                                          NA's   :62     \n",
       " NumberOfOpenCreditLinesAndLoans NumberOfTimes90DaysLate\n",
       " Min.   : 1.000                  Min.   :0.00000        \n",
       " 1st Qu.: 4.000                  1st Qu.:0.00000        \n",
       " Median : 5.000                  Median :0.00000        \n",
       " Mean   : 5.637                  Mean   :0.03139        \n",
       " 3rd Qu.: 7.000                  3rd Qu.:0.00000        \n",
       " Max.   :21.000                  Max.   :3.00000        \n",
       "                                                        \n",
       " NumberRealEstateLoansOrLines NumberOfTime60.89DaysPastDueNotWorse\n",
       " Min.   :0.000                Min.   :0.00000                     \n",
       " 1st Qu.:0.000                1st Qu.:0.00000                     \n",
       " Median :1.000                Median :0.00000                     \n",
       " Mean   :1.197                Mean   :0.02242                     \n",
       " 3rd Qu.:2.000                3rd Qu.:0.00000                     \n",
       " Max.   :9.000                Max.   :1.00000                     \n",
       "                                                                  \n",
       " NumberOfDependents\n",
       " Min.   :0.000     \n",
       " 1st Qu.:0.000     \n",
       " Median :0.000     \n",
       " Mean   :0.684     \n",
       " 3rd Qu.:1.000     \n",
       " Max.   :4.000     \n",
       " NA's   :11        "
      ]
     },
     "metadata": {},
     "output_type": "display_data"
    }
   ],
   "source": [
    "length(df[df$RevolvingUtilizationOfUnsecuredLines >= 100,][,1])\n",
    "summary ( df[df$RevolvingUtilizationOfUnsecuredLines >= 100,] )"
   ]
  },
  {
   "cell_type": "markdown",
   "metadata": {},
   "source": [
    "These individuals don't appear to have any special properties outside of the rest of the dataset, so we can help by trimming the outliers. To do this, we perform Winsorization, the process of converting all values above a certain range to some Nth percentile."
   ]
  },
  {
   "cell_type": "code",
   "execution_count": 8,
   "metadata": {},
   "outputs": [],
   "source": [
    "WinsorizeHighRevolvingUtil <- function(df, qtile){\n",
    "  s <- seq(1, (1-qtile)*nrow(df), 1)\n",
    "  sorted <- df[order(df$RevolvingUtilizationOfUnsecuredLines),]\n",
    "  trim.max <- max(sorted$RevolvingUtilizationOfUnsecuredLines[s])\n",
    "  df[df$RevolvingUtilizationOfUnsecuredLines > trim.max, ]$RevolvingUtilizationOfUnsecuredLines <- trim.max\n",
    "  return (df)\n",
    "}"
   ]
  },
  {
   "cell_type": "code",
   "execution_count": null,
   "metadata": {},
   "outputs": [],
   "source": []
  },
  {
   "cell_type": "markdown",
   "metadata": {},
   "source": [
    "## DebtRatio"
   ]
  },
  {
   "cell_type": "code",
   "execution_count": 22,
   "metadata": {},
   "outputs": [
    {
     "data": {
      "text/plain": [
       "    Min.  1st Qu.   Median     Mean  3rd Qu.     Max. \n",
       "     0.0      0.2      0.4    353.0      0.9 329664.0 "
      ]
     },
     "metadata": {},
     "output_type": "display_data"
    }
   ],
   "source": [
    "summary ( df$DebtRatio )"
   ]
  },
  {
   "cell_type": "markdown",
   "metadata": {},
   "source": [
    "We explained the DebtRatio outliers with MonthlyIncome, and how these individuals with extremely high DebtRatios just have no/minimal income. For the sake of a cleaner model, it could help to trim these outliers as well."
   ]
  },
  {
   "cell_type": "code",
   "execution_count": 9,
   "metadata": {},
   "outputs": [],
   "source": [
    "WinsorizeDebtRatio <- function(df, qtile) {\n",
    "  s <- seq(1, (1-qtile)*nrow(df), 1)\n",
    "  sorted <- df[order(df$DebtRatio),]\n",
    "  trim.max <- max(sorted$DebtRatio[s])\n",
    "  df[df$DebtRatio > trim.max, ]$DebtRatio <- trim.max\n",
    "  return (df)\n",
    "}"
   ]
  },
  {
   "cell_type": "code",
   "execution_count": null,
   "metadata": {},
   "outputs": [],
   "source": []
  },
  {
   "cell_type": "markdown",
   "metadata": {},
   "source": [
    "## Number of Days Past Due "
   ]
  },
  {
   "cell_type": "code",
   "execution_count": 24,
   "metadata": {},
   "outputs": [
    {
     "data": {
      "text/plain": [
       "\n",
       "     0      1      2      3      4      5      6      7      8      9     10 \n",
       "126018  16033   4598   1754    747    342    140     54     25     12      4 \n",
       "    11     12     13     96     98 \n",
       "     1      2      1      5    264 "
      ]
     },
     "metadata": {},
     "output_type": "display_data"
    }
   ],
   "source": [
    "table(df$NumberOfTime30.59DaysPastDueNotWorse)"
   ]
  },
  {
   "cell_type": "code",
   "execution_count": 25,
   "metadata": {},
   "outputs": [
    {
     "data": {
      "text/plain": [
       "\n",
       "     0      1      2      3      4      5      6      7      8      9     11 \n",
       "142396   5731   1118    318    105     34     16      9      2      1      1 \n",
       "    96     98 \n",
       "     5    264 "
      ]
     },
     "metadata": {},
     "output_type": "display_data"
    }
   ],
   "source": [
    "table(df$NumberOfTime60.89DaysPastDueNotWorse)"
   ]
  },
  {
   "cell_type": "code",
   "execution_count": 26,
   "metadata": {},
   "outputs": [
    {
     "data": {
      "text/plain": [
       "\n",
       "     0      1      2      3      4      5      6      7      8      9     10 \n",
       "141662   5243   1555    667    291    131     80     38     21     19      8 \n",
       "    11     12     13     14     15     17     96     98 \n",
       "     5      2      4      2      2      1      5    264 "
      ]
     },
     "metadata": {},
     "output_type": "display_data"
    }
   ],
   "source": [
    "table(df$NumberOfTimes90DaysLate)"
   ]
  },
  {
   "cell_type": "markdown",
   "metadata": {},
   "source": [
    "Upon a first look at the IQRs of these three variables, we initially thought that there were just outliers in these three datasets. However, looking above, it seems that 96 or 98 are chosen exactly the same for all three categories of days late. Let's see what properties these have:"
   ]
  },
  {
   "cell_type": "code",
   "execution_count": 27,
   "metadata": {},
   "outputs": [
    {
     "data": {
      "text/plain": [
       " SeriousDlqin2yrs RevolvingUtilizationOfUnsecuredLines      age       \n",
       " Min.   :0.0000   Min.   :1                            Min.   :21.00  \n",
       " 1st Qu.:0.0000   1st Qu.:1                            1st Qu.:24.00  \n",
       " Median :1.0000   Median :1                            Median :29.00  \n",
       " Mean   :0.5465   Mean   :1                            Mean   :34.25  \n",
       " 3rd Qu.:1.0000   3rd Qu.:1                            3rd Qu.:43.00  \n",
       " Max.   :1.0000   Max.   :1                            Max.   :79.00  \n",
       "                                                                      \n",
       " NumberOfTime30.59DaysPastDueNotWorse   DebtRatio      MonthlyIncome  \n",
       " Min.   :96.00                        Min.   :  0.00   Min.   :    0  \n",
       " 1st Qu.:98.00                        1st Qu.:  0.00   1st Qu.: 1333  \n",
       " Median :98.00                        Median :  0.00   Median : 2168  \n",
       " Mean   :97.96                        Mean   :  5.74   Mean   : 2557  \n",
       " 3rd Qu.:98.00                        3rd Qu.:  0.00   3rd Qu.: 3174  \n",
       " Max.   :98.00                        Max.   :255.00   Max.   :28733  \n",
       "                                                       NA's   :121    \n",
       " NumberOfOpenCreditLinesAndLoans NumberOfTimes90DaysLate\n",
       " Min.   :0.000000                Min.   :96.00          \n",
       " 1st Qu.:0.000000                1st Qu.:98.00          \n",
       " Median :0.000000                Median :98.00          \n",
       " Mean   :0.007435                Mean   :97.96          \n",
       " 3rd Qu.:0.000000                3rd Qu.:98.00          \n",
       " Max.   :1.000000                Max.   :98.00          \n",
       "                                                        \n",
       " NumberRealEstateLoansOrLines NumberOfTime60.89DaysPastDueNotWorse\n",
       " Min.   :0                    Min.   :96.00                       \n",
       " 1st Qu.:0                    1st Qu.:98.00                       \n",
       " Median :0                    Median :98.00                       \n",
       " Mean   :0                    Mean   :97.96                       \n",
       " 3rd Qu.:0                    3rd Qu.:98.00                       \n",
       " Max.   :0                    Max.   :98.00                       \n",
       "                                                                  \n",
       " NumberOfDependents\n",
       " Min.   :0.0000    \n",
       " 1st Qu.:0.0000    \n",
       " Median :0.0000    \n",
       " Mean   :0.3697    \n",
       " 3rd Qu.:0.0000    \n",
       " Max.   :5.0000    \n",
       " NA's   :31        "
      ]
     },
     "metadata": {},
     "output_type": "display_data"
    }
   ],
   "source": [
    "summary(df[df$NumberOfTime30.59DaysPastDueNotWorse>95,])"
   ]
  },
  {
   "cell_type": "markdown",
   "metadata": {},
   "source": [
    "Looking above, it appears that any row that has values of 96 or 98 for their PastDue column will also have that same value marked for the rest of the PastDue categories. More importantly, these values have a mean SeriousDlqin2yrs of 0.54. This is close to 10x the probability of the sample dataset. This has enormous predictive power if these types of values are also present in the testing data. \n",
    "\n",
    "We want to be able to harness the predictive power of these values, so before we impute, we will augment our feature space by making a special binary column marking each rows that have a 96 or 98 in the PastDue columns. While we could impute these values, examination of the testing set revealed their presence there as well. We'll just leave these values as they are, so we can take advantage of their predictive power.\n"
   ]
  },
  {
   "cell_type": "code",
   "execution_count": null,
   "metadata": {},
   "outputs": [],
   "source": []
  },
  {
   "cell_type": "markdown",
   "metadata": {},
   "source": [
    "# Feature Engineering"
   ]
  },
  {
   "cell_type": "markdown",
   "metadata": {},
   "source": [
    "We haven't ran our imputation and cleaning functions on our data yet, but we have set them up. That's because before we impute, we want to see if we can dig out more signal from our dataset by creating new features out of our pre-existing ones. These can include transformations of our initial features, combinations of our initial features, transformations of combinations of our features, or adding in outside information. The easiest features to add are just common binary cases that may have a lot of predictive power. \n",
    "\n",
    "We have to do the feature engineering in two phases: the first phase from the function AddFeatures, must be done before any imputation methods are called, because they are categorical markers for different outliers and weird values that we plan on imputing them from their original feature column. The next function, ExpandFeatureSpace, must be done after imputation, because they are calculations and transformations based on features with missing data. "
   ]
  },
  {
   "cell_type": "code",
   "execution_count": 10,
   "metadata": {},
   "outputs": [],
   "source": [
    "AddFeatures <- function(df) {\n",
    "    df$NoDebt <- as.numeric(df$DebtRatio == 0)\n",
    "    df$VeryHighDebtRatio <- as.numeric(df$DebtRatio  >= 1 & df$DebtRatio < 10)\n",
    "    df$ExtremelyHighDebtRatio <- as.numeric(df$DebtRatio  >= 100)\n",
    "\n",
    "    df$NoRevolvingUtilization <- as.numeric ( df$RevolvingUtilizationOfUnsecuredLines == 0 )\n",
    "    df$HighRevolvingUtilization <- as.numeric ( df$RevolvingUtilizationOfUnsecuredLines >= 1 )\n",
    "\n",
    "    df$WeirdPastDue <- as.numeric ( df$NumberOfTime30.59DaysPastDueNotWorse > 95 )\n",
    "    df$NeverPastDue <- as.numeric ( df$NumberOfTime30.59DaysPastDueNotWorse == 0 & \n",
    "                                    df$NumberOfTime60.89DaysPastDueNotWorse==0 & \n",
    "                                    df$NumberOfTimes90DaysLate ==0 )\n",
    "    \n",
    "    return ( df )\n",
    "}"
   ]
  },
  {
   "cell_type": "markdown",
   "metadata": {},
   "source": [
    "We can even try and engineer features out of information we don't even have. One attempt involved grabbing age and income data from the US census and creating a percentile table. The data is already downloaded and procesed by us in a file called 'inc_percentiles.csv\". We then made a new column called 'IncomePercentileForAge', which takes this census data nd returns how much income an individual is making relative to their age group in the form of a percentile."
   ]
  },
  {
   "cell_type": "code",
   "execution_count": 11,
   "metadata": {},
   "outputs": [],
   "source": [
    "AddIncomePercentileFeature <- function(df) {\n",
    "    inc <- read.csv(\"inc_percentiles.csv\")\n",
    "    get_income_percentile <- function(age, monthly_income) {\n",
    "        if (age > 75 ) {\n",
    "            age <- 75\n",
    "        }\n",
    "\n",
    "        percentile <- ecdf ( inc[inc$AGE == age,]$INC )\n",
    "        yearly_income <- monthly_income * 12\n",
    "        return ( percentile(yearly_income) )\n",
    "    }\n",
    "\n",
    "    IncomePercentileForAge <- c()\n",
    "    for (i in 1:150000) {\n",
    "        IncomePercentileForAge[i] <- get_income_percentile( df$age[i], df$MonthlyIncome[i] )\n",
    "    }\n",
    "    \n",
    "    df$IncomePercentileForAge <- IncomePercentileForAge\n",
    "    return (df)\n",
    "}"
   ]
  },
  {
   "cell_type": "code",
   "execution_count": 12,
   "metadata": {},
   "outputs": [],
   "source": [
    "ExpandFeatureSpace <- function(df) {\n",
    "    df$NoIncome <- as.numeric ( df$MonthlyIncome == 0 )\n",
    "    df$LowIncome <- as.numeric ( df$MonthlyIncome > 0 & df$MonthlyIncome < 500 )\n",
    "    df$HighIncome <- as.numeric ( df$MonthlyIncome > 10000 )\n",
    "    \n",
    "    df$IncomeToAgeRatio <- df$MonthlyIncome / df$age\n",
    "    df$LogIncomeToAgeRatio <- log ( df$MonthlyIncome / df$age )\n",
    "    df[df$IncomeToAgeRatio == 0,]$LogIncomeToAgeRatio <- 0\n",
    "\n",
    "    df$LogRevolvingUtilization <- log (df$RevolvingUtilizationOfUnsecuredLines)\n",
    "    df[df$RevolvingUtilizationOfUnsecuredLines==0,]$LogRevolvingUtilization <- 0\n",
    "\n",
    "    df$LogDebtRatio <- log (df$DebtRatio)\n",
    "    df[df$DebtRatio == 0,]$LogDebtRatio <- 0\n",
    "    \n",
    "    df$NeverPastDueXNumberOfLines <- df$NumberOfOpenCreditLinesAndLoans * df$NeverPastDue\n",
    "    df$NeverPastDueXRealEstate    <- df$NumberRealEstateLoansOrLines * df$NeverPastDue\n",
    "    \n",
    "    #df$IncomePercentileForAge <- AddIncomePercentileFeature(df) \n",
    "    \n",
    "    # alternate code for simply importing the already calculated income percentile columns\n",
    "    # df$IncomePercentileForAge <- read.csv(\"incPercentiles.csv\")[,1]\n",
    "    return ( df )\n",
    "}"
   ]
  },
  {
   "cell_type": "markdown",
   "metadata": {},
   "source": [
    "Now that we've imputed number of dependents and monthly income, we can engineer some more features that are based on these variables."
   ]
  },
  {
   "cell_type": "code",
   "execution_count": 8,
   "metadata": {},
   "outputs": [],
   "source": [
    "df$IncomePercentileForAge <- read.csv(\"incPercentiles.csv\")"
   ]
  },
  {
   "cell_type": "code",
   "execution_count": 67,
   "metadata": {},
   "outputs": [
    {
     "data": {
      "text/html": [
       "<table>\n",
       "<thead><tr><th></th><th scope=col>X</th><th scope=col>SeriousDlqin2yrs</th><th scope=col>RevolvingUtilizationOfUnsecuredLines</th><th scope=col>age</th><th scope=col>NumberOfTime30.59DaysPastDueNotWorse</th><th scope=col>DebtRatio</th><th scope=col>MonthlyIncome</th><th scope=col>NumberOfOpenCreditLinesAndLoans</th><th scope=col>NumberOfTimes90DaysLate</th><th scope=col>NumberRealEstateLoansOrLines</th><th scope=col>⋯</th><th scope=col>NeverPastDue</th><th scope=col>NoIncome</th><th scope=col>LowIncome</th><th scope=col>HighIncome</th><th scope=col>IncomeToAgeRatio</th><th scope=col>LogIncomeToAgeRatio</th><th scope=col>LogRevolvingUtilization</th><th scope=col>LogDebtRatio</th><th scope=col>NeverPastDueXNumberOfLines</th><th scope=col>NeverPastDueXRealEstate</th></tr></thead>\n",
       "<tbody>\n",
       "\t<tr><th scope=row>X</th><td> 1.0000000000</td><td> 0.002800756 </td><td>-0.005593761 </td><td> 0.004401053 </td><td>-0.0005707951</td><td>-0.0023834656</td><td> 0.002663163 </td><td> 0.004585542 </td><td>-0.0011040043</td><td>-0.0006655035</td><td>⋯            </td><td> 0.001483894 </td><td>-0.002363692 </td><td>-0.0035362892</td><td>-0.002038661 </td><td> 0.002004721 </td><td> 0.001568207 </td><td>-0.006660471 </td><td>-0.0002686593</td><td> 0.0045219187</td><td>-0.0009455089</td></tr>\n",
       "\t<tr><th scope=row>SeriousDlqin2yrs</th><td> 0.0028007556</td><td> 1.000000000 </td><td> 0.278357834 </td><td>-0.115391149 </td><td> 0.1255869646</td><td>-0.0175691038</td><td>-0.014772879 </td><td>-0.029668568 </td><td> 0.1171746134</td><td>-0.0070381163</td><td>⋯            </td><td>-0.314407321 </td><td>-0.017135110 </td><td>-0.0069559771</td><td>-0.035254869 </td><td>-0.004272559 </td><td> 0.013348313 </td><td> 0.185090923 </td><td> 0.0023294712</td><td>-0.1803975377</td><td>-0.1054568702</td></tr>\n",
       "\t<tr><th scope=row>RevolvingUtilizationOfUnsecuredLines</th><td>-0.0055937612</td><td> 0.278357834 </td><td> 1.000000000 </td><td>-0.279178551 </td><td> 0.1211016835</td><td>-0.0414602138</td><td>-0.022643776 </td><td>-0.160567813 </td><td> 0.1097283209</td><td>-0.0689820067</td><td>⋯            </td><td>-0.314840468 </td><td>-0.036190041 </td><td> 0.0053919936</td><td>-0.045736717 </td><td> 0.002647694 </td><td> 0.038140979 </td><td> 0.684176232 </td><td> 0.0146696303</td><td>-0.2635463983</td><td>-0.1433654772</td></tr>\n",
       "\t<tr><th scope=row>age</th><td> 0.0044010532</td><td>-0.115391149 </td><td>-0.279178551 </td><td> 1.000000000 </td><td>-0.0629955384</td><td> 0.0619634914</td><td> 0.014438937 </td><td> 0.147704762 </td><td>-0.0610069488</td><td> 0.0331593980</td><td>⋯            </td><td> 0.126948171 </td><td> 0.047560238 </td><td>-0.0385160213</td><td> 0.049616498 </td><td>-0.087327923 </td><td>-0.144140532 </td><td>-0.282636605 </td><td> 0.0377290080</td><td> 0.1601224596</td><td> 0.0433682169</td></tr>\n",
       "\t<tr><th scope=row>NumberOfTime30.59DaysPastDueNotWorse</th><td>-0.0005707951</td><td> 0.125586965 </td><td> 0.121101683 </td><td>-0.062995538 </td><td> 1.0000000000</td><td>-0.0195554054</td><td>-0.010028167 </td><td>-0.055312236 </td><td> 0.9836026813</td><td>-0.0305645347</td><td>⋯            </td><td>-0.199331593 </td><td>-0.017314659 </td><td> 0.0463881368</td><td>-0.015325384 </td><td>-0.006141706 </td><td> 0.003156178 </td><td> 0.073053529 </td><td> 0.0017024032</td><td>-0.1195852462</td><td>-0.0765097054</td></tr>\n",
       "\t<tr><th scope=row>DebtRatio</th><td>-0.0023834656</td><td>-0.017569104 </td><td>-0.041460214 </td><td> 0.061963491 </td><td>-0.0195554054</td><td> 1.0000000000</td><td>-0.186011702 </td><td>-0.020140070 </td><td>-0.0169497152</td><td> 0.0444801034</td><td>⋯            </td><td> 0.024586827 </td><td> 0.980867715 </td><td>-0.0194001784</td><td>-0.168848525 </td><td>-0.195013578 </td><td>-0.911708527 </td><td>-0.031030591 </td><td> 0.8694131622</td><td> 0.0005356109</td><td> 0.0530077377</td></tr>\n",
       "\t<tr><th scope=row>MonthlyIncome</th><td> 0.0026631628</td><td>-0.014772879 </td><td>-0.022643776 </td><td> 0.014438937 </td><td>-0.0100281667</td><td>-0.1860117025</td><td> 1.000000000 </td><td> 0.095400569 </td><td>-0.0128350088</td><td> 0.1138721909</td><td>⋯            </td><td> 0.004409845 </td><td>-0.184023321 </td><td>-0.0273244206</td><td> 0.308492014 </td><td> 0.979493526 </td><td> 0.299290813 </td><td>-0.008515783 </td><td>-0.2013545702</td><td> 0.0682280616</td><td> 0.0934196741</td></tr>\n",
       "\t<tr><th scope=row>NumberOfOpenCreditLinesAndLoans</th><td> 0.0045855423</td><td>-0.029668568 </td><td>-0.160567813 </td><td> 0.147704762 </td><td>-0.0553122362</td><td>-0.0201400702</td><td> 0.095400569 </td><td> 1.000000000 </td><td>-0.0799843498</td><td> 0.4339586031</td><td>⋯            </td><td>-0.010249448 </td><td>-0.018199101 </td><td>-0.0455052300</td><td> 0.187697236 </td><td> 0.077968515 </td><td> 0.099628930 </td><td>-0.115714287 </td><td> 0.0400640069</td><td> 0.6958158736</td><td> 0.3374426816</td></tr>\n",
       "\t<tr><th scope=row>NumberOfTimes90DaysLate</th><td>-0.0011040043</td><td> 0.117174613 </td><td> 0.109728321 </td><td>-0.061006949 </td><td> 0.9836026813</td><td>-0.0169497152</td><td>-0.012835009 </td><td>-0.079984350 </td><td> 1.0000000000</td><td>-0.0452052165</td><td>⋯            </td><td>-0.126629946 </td><td>-0.014860639 </td><td> 0.0480192789</td><td>-0.019657613 </td><td>-0.009176170 </td><td>-0.002207356 </td><td> 0.062029066 </td><td> 0.0006856521</td><td>-0.0759692580</td><td>-0.0486045372</td></tr>\n",
       "\t<tr><th scope=row>NumberRealEstateLoansOrLines</th><td>-0.0006655035</td><td>-0.007038116 </td><td>-0.068982007 </td><td> 0.033159398 </td><td>-0.0305645347</td><td> 0.0444801034</td><td> 0.113872191 </td><td> 0.433958603 </td><td>-0.0452052165</td><td> 1.0000000000</td><td>⋯            </td><td> 0.006650168 </td><td> 0.047411155 </td><td>-0.0396243472</td><td> 0.248428259 </td><td> 0.108916725 </td><td> 0.074105821 </td><td>-0.010139737 </td><td> 0.1475202117</td><td> 0.2987713458</td><td> 0.8100269389</td></tr>\n",
       "\t<tr><th scope=row>NumberOfTime60.89DaysPastDueNotWorse</th><td>-0.0007772401</td><td> 0.102260861 </td><td> 0.097764523 </td><td>-0.057161545 </td><td> 0.9870054475</td><td>-0.0169213401</td><td>-0.011545892 </td><td>-0.071076735 </td><td> 0.9927961826</td><td>-0.0397223324</td><td>⋯            </td><td>-0.114837164 </td><td>-0.014775758 </td><td> 0.0480971744</td><td>-0.017221877 </td><td>-0.008179032 </td><td>-0.001535392 </td><td> 0.055009016 </td><td> 0.0012696222</td><td>-0.0688944000</td><td>-0.0440780984</td></tr>\n",
       "\t<tr><th scope=row>NumberOfDependents</th><td> 0.0001160652</td><td> 0.047337592 </td><td> 0.090603827 </td><td>-0.216035159 </td><td>-0.0045357033</td><td>-0.1445595830</td><td> 0.091933798 </td><td> 0.073866538 </td><td>-0.0119700112</td><td> 0.1295620043</td><td>⋯            </td><td>-0.072916717 </td><td>-0.137409389 </td><td>-0.0185408619</td><td> 0.148251882 </td><td> 0.117704449 </td><td> 0.224357619 </td><td> 0.099609820 </td><td>-0.1176104437</td><td> 0.0165871005</td><td> 0.0895498666</td></tr>\n",
       "\t<tr><th scope=row>NoDebt</th><td>-0.0003425192</td><td> 0.010639246 </td><td> 0.062829253 </td><td>-0.001936689 </td><td> 0.1846787266</td><td>-0.0765006588</td><td>-0.022095447 </td><td>-0.203265934 </td><td> 0.1945972375</td><td>-0.1513325125</td><td>⋯            </td><td> 0.009809940 </td><td>-0.062596124 </td><td> 0.0475646053</td><td>-0.047042025 </td><td>-0.023696005 </td><td> 0.007753279 </td><td> 0.113378645 </td><td> 0.0098330891</td><td>-0.1397987135</td><td>-0.1279298429</td></tr>\n",
       "\t<tr><th scope=row>VeryHighDebtRatio</th><td> 0.0012362636</td><td> 0.033498915 </td><td> 0.018245613 </td><td> 0.022892757 </td><td>-0.0030733415</td><td>-0.0908543721</td><td>-0.037730808 </td><td> 0.051909182 </td><td>-0.0072051035</td><td> 0.1122586695</td><td>⋯            </td><td>-0.010627306 </td><td>-0.084446415 </td><td> 0.0954253230</td><td>-0.065639069 </td><td>-0.041424031 </td><td>-0.011266916 </td><td>-0.009903675 </td><td> 0.0566812704</td><td> 0.0191217593</td><td> 0.0731899870</td></tr>\n",
       "\t<tr><th scope=row>ExtremelyHighDebtRatio</th><td>-0.0034363247</td><td>-0.015986384 </td><td>-0.036777817 </td><td> 0.055927046 </td><td>-0.0200074877</td><td> 0.9885247100</td><td>-0.182502389 </td><td>-0.019264848 </td><td>-0.0173700217</td><td> 0.0430714646</td><td>⋯            </td><td> 0.022812757 </td><td> 0.970666282 </td><td>-0.0211689869</td><td>-0.164403354 </td><td>-0.191041923 </td><td>-0.899676206 </td><td>-0.025279385 </td><td> 0.8521885882</td><td> 0.0006270114</td><td> 0.0516429197</td></tr>\n",
       "\t<tr><th scope=row>NoRevolvingUtilization</th><td>-0.0030793906</td><td>-0.041900282 </td><td>-0.255312129 </td><td> 0.009395854 </td><td>-0.0186564430</td><td> 0.0189012170</td><td>-0.009116261 </td><td>-0.104083116 </td><td>-0.0147617011</td><td>-0.0265166769</td><td>⋯            </td><td> 0.049128375 </td><td> 0.021502612 </td><td> 0.0136178023</td><td>-0.018409326 </td><td>-0.010324946 </td><td>-0.035254263 </td><td> 0.295454311 </td><td> 0.0341324294</td><td>-0.0566465529</td><td>-0.0094224087</td></tr>\n",
       "\t<tr><th scope=row>HighRevolvingUtilization</th><td> 0.0028489884</td><td> 0.184205156 </td><td> 0.296152168 </td><td>-0.084165225 </td><td> 0.0212958144</td><td>-0.0074504071</td><td>-0.011703239 </td><td>-0.061201417 </td><td> 0.0133895674</td><td>-0.0450004892</td><td>⋯            </td><td>-0.167634853 </td><td>-0.007212547 </td><td>-0.0001038826</td><td>-0.022590001 </td><td>-0.004169113 </td><td> 0.004678073 </td><td> 0.159909663 </td><td>-0.0044292019</td><td>-0.1190330680</td><td>-0.0757414441</td></tr>\n",
       "\t<tr><th scope=row>WeirdPastDue</th><td>-0.0009276025</td><td> 0.081400841 </td><td> 0.082493327 </td><td>-0.051793477 </td><td> 0.9860756807</td><td>-0.0167999670</td><td>-0.010881353 </td><td>-0.069562062 </td><td> 0.9932046740</td><td>-0.0382015920</td><td>⋯            </td><td>-0.084135774 </td><td>-0.014690142 </td><td> 0.0487020647</td><td>-0.015327966 </td><td>-0.008004786 </td><td>-0.001710901 </td><td> 0.044785143 </td><td> 0.0008194769</td><td>-0.0504756777</td><td>-0.0322939439</td></tr>\n",
       "\t<tr><th scope=row>NeverPastDue</th><td> 0.0014838937</td><td>-0.314407321 </td><td>-0.314840468 </td><td> 0.126948171 </td><td>-0.1993315935</td><td> 0.0245868267</td><td> 0.004409845 </td><td>-0.010249448 </td><td>-0.1266299458</td><td> 0.0066501679</td><td>⋯            </td><td> 1.000000000 </td><td> 0.023450958 </td><td> 0.0076134651</td><td> 0.019160954 </td><td>-0.006658444 </td><td>-0.030132652 </td><td>-0.227305144 </td><td> 0.0048927486</td><td> 0.5999312208</td><td> 0.3838313038</td></tr>\n",
       "\t<tr><th scope=row>NoIncome</th><td>-0.0023636925</td><td>-0.017135110 </td><td>-0.036190041 </td><td> 0.047560238 </td><td>-0.0173146586</td><td> 0.9808677152</td><td>-0.184023321 </td><td>-0.018199101 </td><td>-0.0148606393</td><td> 0.0474111550</td><td>⋯            </td><td> 0.023450958 </td><td> 1.000000000 </td><td>-0.0295571075</td><td>-0.163243251 </td><td>-0.192371624 </td><td>-0.919080057 </td><td>-0.025690494 </td><td> 0.8407223905</td><td> 0.0010176343</td><td> 0.0553476670</td></tr>\n",
       "\t<tr><th scope=row>LowIncome</th><td>-0.0035362892</td><td>-0.006955977 </td><td> 0.005391994 </td><td>-0.038516021 </td><td> 0.0463881368</td><td>-0.0194001784</td><td>-0.027324421 </td><td>-0.045505230 </td><td> 0.0480192789</td><td>-0.0396243472</td><td>⋯            </td><td> 0.007613465 </td><td>-0.029557107 </td><td> 1.0000000000</td><td>-0.025188676 </td><td>-0.028193392 </td><td>-0.132850700 </td><td> 0.006550818 </td><td> 0.0261499938</td><td>-0.0315543644</td><td>-0.0344914138</td></tr>\n",
       "\t<tr><th scope=row>HighIncome</th><td>-0.0020386609</td><td>-0.035254869 </td><td>-0.045736717 </td><td> 0.049616498 </td><td>-0.0153253838</td><td>-0.1688485252</td><td> 0.308492014 </td><td> 0.187697236 </td><td>-0.0196576133</td><td> 0.2484282594</td><td>⋯            </td><td> 0.019160954 </td><td>-0.163243251 </td><td>-0.0251886762</td><td> 1.000000000 </td><td> 0.298609716 </td><td> 0.347521745 </td><td>-0.020786515 </td><td>-0.1915291345</td><td> 0.1418991013</td><td> 0.2090955115</td></tr>\n",
       "\t<tr><th scope=row>IncomeToAgeRatio</th><td> 0.0020047205</td><td>-0.004272559 </td><td> 0.002647694 </td><td>-0.087327923 </td><td>-0.0061417056</td><td>-0.1950135780</td><td> 0.979493526 </td><td> 0.077968515 </td><td>-0.0091761704</td><td> 0.1089167249</td><td>⋯            </td><td>-0.006658444 </td><td>-0.192371624 </td><td>-0.0281933921</td><td> 0.298609716 </td><td> 1.000000000 </td><td> 0.321306910 </td><td> 0.016758221 </td><td>-0.2077539073</td><td> 0.0511233973</td><td> 0.0880327131</td></tr>\n",
       "\t<tr><th scope=row>LogIncomeToAgeRatio</th><td> 0.0015682066</td><td> 0.013348313 </td><td> 0.038140979 </td><td>-0.144140532 </td><td> 0.0031561782</td><td>-0.9117085268</td><td> 0.299290813 </td><td> 0.099628930 </td><td>-0.0022073559</td><td> 0.0741058206</td><td>⋯            </td><td>-0.030132652 </td><td>-0.919080057 </td><td>-0.1328507002</td><td> 0.347521745 </td><td> 0.321306910 </td><td> 1.000000000 </td><td> 0.042330158 </td><td>-0.8165224216</td><td> 0.0539729991</td><td> 0.0477385399</td></tr>\n",
       "\t<tr><th scope=row>LogRevolvingUtilization</th><td>-0.0066604714</td><td> 0.185090923 </td><td> 0.684176232 </td><td>-0.282636605 </td><td> 0.0730535287</td><td>-0.0310305908</td><td>-0.008515783 </td><td>-0.115714287 </td><td> 0.0620290655</td><td>-0.0101397366</td><td>⋯            </td><td>-0.227305144 </td><td>-0.025690494 </td><td> 0.0065508180</td><td>-0.020786515 </td><td> 0.016758221 </td><td> 0.042330158 </td><td> 1.000000000 </td><td> 0.0481491825</td><td>-0.2013384715</td><td>-0.0710790970</td></tr>\n",
       "\t<tr><th scope=row>LogDebtRatio</th><td>-0.0002686593</td><td> 0.002329471 </td><td> 0.014669630 </td><td> 0.037729008 </td><td> 0.0017024032</td><td> 0.8694131622</td><td>-0.201354570 </td><td> 0.040064007 </td><td> 0.0006856521</td><td> 0.1475202117</td><td>⋯            </td><td> 0.004892749 </td><td> 0.840722391 </td><td> 0.0261499938</td><td>-0.191529135 </td><td>-0.207753907 </td><td>-0.816522422 </td><td> 0.048149182 </td><td> 1.0000000000</td><td> 0.0286951946</td><td> 0.1299236657</td></tr>\n",
       "\t<tr><th scope=row>NeverPastDueXNumberOfLines</th><td> 0.0045219187</td><td>-0.180397538 </td><td>-0.263546398 </td><td> 0.160122460 </td><td>-0.1195852462</td><td> 0.0005356109</td><td> 0.068228062 </td><td> 0.695815874 </td><td>-0.0759692580</td><td> 0.2987713458</td><td>⋯            </td><td> 0.599931221 </td><td> 0.001017634 </td><td>-0.0315543644</td><td> 0.141899101 </td><td> 0.051123397 </td><td> 0.053972999 </td><td>-0.201338471 </td><td> 0.0286951946</td><td> 1.0000000000</td><td> 0.5415547664</td></tr>\n",
       "\t<tr><th scope=row>NeverPastDueXRealEstate</th><td>-0.0009455089</td><td>-0.105456870 </td><td>-0.143365477 </td><td> 0.043368217 </td><td>-0.0765097054</td><td> 0.0530077377</td><td> 0.093419674 </td><td> 0.337442682 </td><td>-0.0486045372</td><td> 0.8100269389</td><td>⋯            </td><td> 0.383831304 </td><td> 0.055347667 </td><td>-0.0344914138</td><td> 0.209095512 </td><td> 0.088032713 </td><td> 0.047738540 </td><td>-0.071079097 </td><td> 0.1299236657</td><td> 0.5415547664</td><td> 1.0000000000</td></tr>\n",
       "</tbody>\n",
       "</table>\n"
      ],
      "text/latex": [
       "\\begin{tabular}{r|llllllllllllllllllllllllllll}\n",
       "  & X & SeriousDlqin2yrs & RevolvingUtilizationOfUnsecuredLines & age & NumberOfTime30.59DaysPastDueNotWorse & DebtRatio & MonthlyIncome & NumberOfOpenCreditLinesAndLoans & NumberOfTimes90DaysLate & NumberRealEstateLoansOrLines & ⋯ & NeverPastDue & NoIncome & LowIncome & HighIncome & IncomeToAgeRatio & LogIncomeToAgeRatio & LogRevolvingUtilization & LogDebtRatio & NeverPastDueXNumberOfLines & NeverPastDueXRealEstate\\\\\n",
       "\\hline\n",
       "\tX &  1.0000000000 &  0.002800756  & -0.005593761  &  0.004401053  & -0.0005707951 & -0.0023834656 &  0.002663163  &  0.004585542  & -0.0011040043 & -0.0006655035 & ⋯             &  0.001483894  & -0.002363692  & -0.0035362892 & -0.002038661  &  0.002004721  &  0.001568207  & -0.006660471  & -0.0002686593 &  0.0045219187 & -0.0009455089\\\\\n",
       "\tSeriousDlqin2yrs &  0.0028007556 &  1.000000000  &  0.278357834  & -0.115391149  &  0.1255869646 & -0.0175691038 & -0.014772879  & -0.029668568  &  0.1171746134 & -0.0070381163 & ⋯             & -0.314407321  & -0.017135110  & -0.0069559771 & -0.035254869  & -0.004272559  &  0.013348313  &  0.185090923  &  0.0023294712 & -0.1803975377 & -0.1054568702\\\\\n",
       "\tRevolvingUtilizationOfUnsecuredLines & -0.0055937612 &  0.278357834  &  1.000000000  & -0.279178551  &  0.1211016835 & -0.0414602138 & -0.022643776  & -0.160567813  &  0.1097283209 & -0.0689820067 & ⋯             & -0.314840468  & -0.036190041  &  0.0053919936 & -0.045736717  &  0.002647694  &  0.038140979  &  0.684176232  &  0.0146696303 & -0.2635463983 & -0.1433654772\\\\\n",
       "\tage &  0.0044010532 & -0.115391149  & -0.279178551  &  1.000000000  & -0.0629955384 &  0.0619634914 &  0.014438937  &  0.147704762  & -0.0610069488 &  0.0331593980 & ⋯             &  0.126948171  &  0.047560238  & -0.0385160213 &  0.049616498  & -0.087327923  & -0.144140532  & -0.282636605  &  0.0377290080 &  0.1601224596 &  0.0433682169\\\\\n",
       "\tNumberOfTime30.59DaysPastDueNotWorse & -0.0005707951 &  0.125586965  &  0.121101683  & -0.062995538  &  1.0000000000 & -0.0195554054 & -0.010028167  & -0.055312236  &  0.9836026813 & -0.0305645347 & ⋯             & -0.199331593  & -0.017314659  &  0.0463881368 & -0.015325384  & -0.006141706  &  0.003156178  &  0.073053529  &  0.0017024032 & -0.1195852462 & -0.0765097054\\\\\n",
       "\tDebtRatio & -0.0023834656 & -0.017569104  & -0.041460214  &  0.061963491  & -0.0195554054 &  1.0000000000 & -0.186011702  & -0.020140070  & -0.0169497152 &  0.0444801034 & ⋯             &  0.024586827  &  0.980867715  & -0.0194001784 & -0.168848525  & -0.195013578  & -0.911708527  & -0.031030591  &  0.8694131622 &  0.0005356109 &  0.0530077377\\\\\n",
       "\tMonthlyIncome &  0.0026631628 & -0.014772879  & -0.022643776  &  0.014438937  & -0.0100281667 & -0.1860117025 &  1.000000000  &  0.095400569  & -0.0128350088 &  0.1138721909 & ⋯             &  0.004409845  & -0.184023321  & -0.0273244206 &  0.308492014  &  0.979493526  &  0.299290813  & -0.008515783  & -0.2013545702 &  0.0682280616 &  0.0934196741\\\\\n",
       "\tNumberOfOpenCreditLinesAndLoans &  0.0045855423 & -0.029668568  & -0.160567813  &  0.147704762  & -0.0553122362 & -0.0201400702 &  0.095400569  &  1.000000000  & -0.0799843498 &  0.4339586031 & ⋯             & -0.010249448  & -0.018199101  & -0.0455052300 &  0.187697236  &  0.077968515  &  0.099628930  & -0.115714287  &  0.0400640069 &  0.6958158736 &  0.3374426816\\\\\n",
       "\tNumberOfTimes90DaysLate & -0.0011040043 &  0.117174613  &  0.109728321  & -0.061006949  &  0.9836026813 & -0.0169497152 & -0.012835009  & -0.079984350  &  1.0000000000 & -0.0452052165 & ⋯             & -0.126629946  & -0.014860639  &  0.0480192789 & -0.019657613  & -0.009176170  & -0.002207356  &  0.062029066  &  0.0006856521 & -0.0759692580 & -0.0486045372\\\\\n",
       "\tNumberRealEstateLoansOrLines & -0.0006655035 & -0.007038116  & -0.068982007  &  0.033159398  & -0.0305645347 &  0.0444801034 &  0.113872191  &  0.433958603  & -0.0452052165 &  1.0000000000 & ⋯             &  0.006650168  &  0.047411155  & -0.0396243472 &  0.248428259  &  0.108916725  &  0.074105821  & -0.010139737  &  0.1475202117 &  0.2987713458 &  0.8100269389\\\\\n",
       "\tNumberOfTime60.89DaysPastDueNotWorse & -0.0007772401 &  0.102260861  &  0.097764523  & -0.057161545  &  0.9870054475 & -0.0169213401 & -0.011545892  & -0.071076735  &  0.9927961826 & -0.0397223324 & ⋯             & -0.114837164  & -0.014775758  &  0.0480971744 & -0.017221877  & -0.008179032  & -0.001535392  &  0.055009016  &  0.0012696222 & -0.0688944000 & -0.0440780984\\\\\n",
       "\tNumberOfDependents &  0.0001160652 &  0.047337592  &  0.090603827  & -0.216035159  & -0.0045357033 & -0.1445595830 &  0.091933798  &  0.073866538  & -0.0119700112 &  0.1295620043 & ⋯             & -0.072916717  & -0.137409389  & -0.0185408619 &  0.148251882  &  0.117704449  &  0.224357619  &  0.099609820  & -0.1176104437 &  0.0165871005 &  0.0895498666\\\\\n",
       "\tNoDebt & -0.0003425192 &  0.010639246  &  0.062829253  & -0.001936689  &  0.1846787266 & -0.0765006588 & -0.022095447  & -0.203265934  &  0.1945972375 & -0.1513325125 & ⋯             &  0.009809940  & -0.062596124  &  0.0475646053 & -0.047042025  & -0.023696005  &  0.007753279  &  0.113378645  &  0.0098330891 & -0.1397987135 & -0.1279298429\\\\\n",
       "\tVeryHighDebtRatio &  0.0012362636 &  0.033498915  &  0.018245613  &  0.022892757  & -0.0030733415 & -0.0908543721 & -0.037730808  &  0.051909182  & -0.0072051035 &  0.1122586695 & ⋯             & -0.010627306  & -0.084446415  &  0.0954253230 & -0.065639069  & -0.041424031  & -0.011266916  & -0.009903675  &  0.0566812704 &  0.0191217593 &  0.0731899870\\\\\n",
       "\tExtremelyHighDebtRatio & -0.0034363247 & -0.015986384  & -0.036777817  &  0.055927046  & -0.0200074877 &  0.9885247100 & -0.182502389  & -0.019264848  & -0.0173700217 &  0.0430714646 & ⋯             &  0.022812757  &  0.970666282  & -0.0211689869 & -0.164403354  & -0.191041923  & -0.899676206  & -0.025279385  &  0.8521885882 &  0.0006270114 &  0.0516429197\\\\\n",
       "\tNoRevolvingUtilization & -0.0030793906 & -0.041900282  & -0.255312129  &  0.009395854  & -0.0186564430 &  0.0189012170 & -0.009116261  & -0.104083116  & -0.0147617011 & -0.0265166769 & ⋯             &  0.049128375  &  0.021502612  &  0.0136178023 & -0.018409326  & -0.010324946  & -0.035254263  &  0.295454311  &  0.0341324294 & -0.0566465529 & -0.0094224087\\\\\n",
       "\tHighRevolvingUtilization &  0.0028489884 &  0.184205156  &  0.296152168  & -0.084165225  &  0.0212958144 & -0.0074504071 & -0.011703239  & -0.061201417  &  0.0133895674 & -0.0450004892 & ⋯             & -0.167634853  & -0.007212547  & -0.0001038826 & -0.022590001  & -0.004169113  &  0.004678073  &  0.159909663  & -0.0044292019 & -0.1190330680 & -0.0757414441\\\\\n",
       "\tWeirdPastDue & -0.0009276025 &  0.081400841  &  0.082493327  & -0.051793477  &  0.9860756807 & -0.0167999670 & -0.010881353  & -0.069562062  &  0.9932046740 & -0.0382015920 & ⋯             & -0.084135774  & -0.014690142  &  0.0487020647 & -0.015327966  & -0.008004786  & -0.001710901  &  0.044785143  &  0.0008194769 & -0.0504756777 & -0.0322939439\\\\\n",
       "\tNeverPastDue &  0.0014838937 & -0.314407321  & -0.314840468  &  0.126948171  & -0.1993315935 &  0.0245868267 &  0.004409845  & -0.010249448  & -0.1266299458 &  0.0066501679 & ⋯             &  1.000000000  &  0.023450958  &  0.0076134651 &  0.019160954  & -0.006658444  & -0.030132652  & -0.227305144  &  0.0048927486 &  0.5999312208 &  0.3838313038\\\\\n",
       "\tNoIncome & -0.0023636925 & -0.017135110  & -0.036190041  &  0.047560238  & -0.0173146586 &  0.9808677152 & -0.184023321  & -0.018199101  & -0.0148606393 &  0.0474111550 & ⋯             &  0.023450958  &  1.000000000  & -0.0295571075 & -0.163243251  & -0.192371624  & -0.919080057  & -0.025690494  &  0.8407223905 &  0.0010176343 &  0.0553476670\\\\\n",
       "\tLowIncome & -0.0035362892 & -0.006955977  &  0.005391994  & -0.038516021  &  0.0463881368 & -0.0194001784 & -0.027324421  & -0.045505230  &  0.0480192789 & -0.0396243472 & ⋯             &  0.007613465  & -0.029557107  &  1.0000000000 & -0.025188676  & -0.028193392  & -0.132850700  &  0.006550818  &  0.0261499938 & -0.0315543644 & -0.0344914138\\\\\n",
       "\tHighIncome & -0.0020386609 & -0.035254869  & -0.045736717  &  0.049616498  & -0.0153253838 & -0.1688485252 &  0.308492014  &  0.187697236  & -0.0196576133 &  0.2484282594 & ⋯             &  0.019160954  & -0.163243251  & -0.0251886762 &  1.000000000  &  0.298609716  &  0.347521745  & -0.020786515  & -0.1915291345 &  0.1418991013 &  0.2090955115\\\\\n",
       "\tIncomeToAgeRatio &  0.0020047205 & -0.004272559  &  0.002647694  & -0.087327923  & -0.0061417056 & -0.1950135780 &  0.979493526  &  0.077968515  & -0.0091761704 &  0.1089167249 & ⋯             & -0.006658444  & -0.192371624  & -0.0281933921 &  0.298609716  &  1.000000000  &  0.321306910  &  0.016758221  & -0.2077539073 &  0.0511233973 &  0.0880327131\\\\\n",
       "\tLogIncomeToAgeRatio &  0.0015682066 &  0.013348313  &  0.038140979  & -0.144140532  &  0.0031561782 & -0.9117085268 &  0.299290813  &  0.099628930  & -0.0022073559 &  0.0741058206 & ⋯             & -0.030132652  & -0.919080057  & -0.1328507002 &  0.347521745  &  0.321306910  &  1.000000000  &  0.042330158  & -0.8165224216 &  0.0539729991 &  0.0477385399\\\\\n",
       "\tLogRevolvingUtilization & -0.0066604714 &  0.185090923  &  0.684176232  & -0.282636605  &  0.0730535287 & -0.0310305908 & -0.008515783  & -0.115714287  &  0.0620290655 & -0.0101397366 & ⋯             & -0.227305144  & -0.025690494  &  0.0065508180 & -0.020786515  &  0.016758221  &  0.042330158  &  1.000000000  &  0.0481491825 & -0.2013384715 & -0.0710790970\\\\\n",
       "\tLogDebtRatio & -0.0002686593 &  0.002329471  &  0.014669630  &  0.037729008  &  0.0017024032 &  0.8694131622 & -0.201354570  &  0.040064007  &  0.0006856521 &  0.1475202117 & ⋯             &  0.004892749  &  0.840722391  &  0.0261499938 & -0.191529135  & -0.207753907  & -0.816522422  &  0.048149182  &  1.0000000000 &  0.0286951946 &  0.1299236657\\\\\n",
       "\tNeverPastDueXNumberOfLines &  0.0045219187 & -0.180397538  & -0.263546398  &  0.160122460  & -0.1195852462 &  0.0005356109 &  0.068228062  &  0.695815874  & -0.0759692580 &  0.2987713458 & ⋯             &  0.599931221  &  0.001017634  & -0.0315543644 &  0.141899101  &  0.051123397  &  0.053972999  & -0.201338471  &  0.0286951946 &  1.0000000000 &  0.5415547664\\\\\n",
       "\tNeverPastDueXRealEstate & -0.0009455089 & -0.105456870  & -0.143365477  &  0.043368217  & -0.0765097054 &  0.0530077377 &  0.093419674  &  0.337442682  & -0.0486045372 &  0.8100269389 & ⋯             &  0.383831304  &  0.055347667  & -0.0344914138 &  0.209095512  &  0.088032713  &  0.047738540  & -0.071079097  &  0.1299236657 &  0.5415547664 &  1.0000000000\\\\\n",
       "\\end{tabular}\n"
      ],
      "text/markdown": [
       "\n",
       "| <!--/--> | X | SeriousDlqin2yrs | RevolvingUtilizationOfUnsecuredLines | age | NumberOfTime30.59DaysPastDueNotWorse | DebtRatio | MonthlyIncome | NumberOfOpenCreditLinesAndLoans | NumberOfTimes90DaysLate | NumberRealEstateLoansOrLines | ⋯ | NeverPastDue | NoIncome | LowIncome | HighIncome | IncomeToAgeRatio | LogIncomeToAgeRatio | LogRevolvingUtilization | LogDebtRatio | NeverPastDueXNumberOfLines | NeverPastDueXRealEstate | \n",
       "|---|---|---|---|---|---|---|---|---|---|---|---|---|---|---|---|---|---|---|---|---|---|---|---|---|---|---|---|\n",
       "| X |  1.0000000000 |  0.002800756  | -0.005593761  |  0.004401053  | -0.0005707951 | -0.0023834656 |  0.002663163  |  0.004585542  | -0.0011040043 | -0.0006655035 | ⋯             |  0.001483894  | -0.002363692  | -0.0035362892 | -0.002038661  |  0.002004721  |  0.001568207  | -0.006660471  | -0.0002686593 |  0.0045219187 | -0.0009455089 | \n",
       "| SeriousDlqin2yrs |  0.0028007556 |  1.000000000  |  0.278357834  | -0.115391149  |  0.1255869646 | -0.0175691038 | -0.014772879  | -0.029668568  |  0.1171746134 | -0.0070381163 | ⋯             | -0.314407321  | -0.017135110  | -0.0069559771 | -0.035254869  | -0.004272559  |  0.013348313  |  0.185090923  |  0.0023294712 | -0.1803975377 | -0.1054568702 | \n",
       "| RevolvingUtilizationOfUnsecuredLines | -0.0055937612 |  0.278357834  |  1.000000000  | -0.279178551  |  0.1211016835 | -0.0414602138 | -0.022643776  | -0.160567813  |  0.1097283209 | -0.0689820067 | ⋯             | -0.314840468  | -0.036190041  |  0.0053919936 | -0.045736717  |  0.002647694  |  0.038140979  |  0.684176232  |  0.0146696303 | -0.2635463983 | -0.1433654772 | \n",
       "| age |  0.0044010532 | -0.115391149  | -0.279178551  |  1.000000000  | -0.0629955384 |  0.0619634914 |  0.014438937  |  0.147704762  | -0.0610069488 |  0.0331593980 | ⋯             |  0.126948171  |  0.047560238  | -0.0385160213 |  0.049616498  | -0.087327923  | -0.144140532  | -0.282636605  |  0.0377290080 |  0.1601224596 |  0.0433682169 | \n",
       "| NumberOfTime30.59DaysPastDueNotWorse | -0.0005707951 |  0.125586965  |  0.121101683  | -0.062995538  |  1.0000000000 | -0.0195554054 | -0.010028167  | -0.055312236  |  0.9836026813 | -0.0305645347 | ⋯             | -0.199331593  | -0.017314659  |  0.0463881368 | -0.015325384  | -0.006141706  |  0.003156178  |  0.073053529  |  0.0017024032 | -0.1195852462 | -0.0765097054 | \n",
       "| DebtRatio | -0.0023834656 | -0.017569104  | -0.041460214  |  0.061963491  | -0.0195554054 |  1.0000000000 | -0.186011702  | -0.020140070  | -0.0169497152 |  0.0444801034 | ⋯             |  0.024586827  |  0.980867715  | -0.0194001784 | -0.168848525  | -0.195013578  | -0.911708527  | -0.031030591  |  0.8694131622 |  0.0005356109 |  0.0530077377 | \n",
       "| MonthlyIncome |  0.0026631628 | -0.014772879  | -0.022643776  |  0.014438937  | -0.0100281667 | -0.1860117025 |  1.000000000  |  0.095400569  | -0.0128350088 |  0.1138721909 | ⋯             |  0.004409845  | -0.184023321  | -0.0273244206 |  0.308492014  |  0.979493526  |  0.299290813  | -0.008515783  | -0.2013545702 |  0.0682280616 |  0.0934196741 | \n",
       "| NumberOfOpenCreditLinesAndLoans |  0.0045855423 | -0.029668568  | -0.160567813  |  0.147704762  | -0.0553122362 | -0.0201400702 |  0.095400569  |  1.000000000  | -0.0799843498 |  0.4339586031 | ⋯             | -0.010249448  | -0.018199101  | -0.0455052300 |  0.187697236  |  0.077968515  |  0.099628930  | -0.115714287  |  0.0400640069 |  0.6958158736 |  0.3374426816 | \n",
       "| NumberOfTimes90DaysLate | -0.0011040043 |  0.117174613  |  0.109728321  | -0.061006949  |  0.9836026813 | -0.0169497152 | -0.012835009  | -0.079984350  |  1.0000000000 | -0.0452052165 | ⋯             | -0.126629946  | -0.014860639  |  0.0480192789 | -0.019657613  | -0.009176170  | -0.002207356  |  0.062029066  |  0.0006856521 | -0.0759692580 | -0.0486045372 | \n",
       "| NumberRealEstateLoansOrLines | -0.0006655035 | -0.007038116  | -0.068982007  |  0.033159398  | -0.0305645347 |  0.0444801034 |  0.113872191  |  0.433958603  | -0.0452052165 |  1.0000000000 | ⋯             |  0.006650168  |  0.047411155  | -0.0396243472 |  0.248428259  |  0.108916725  |  0.074105821  | -0.010139737  |  0.1475202117 |  0.2987713458 |  0.8100269389 | \n",
       "| NumberOfTime60.89DaysPastDueNotWorse | -0.0007772401 |  0.102260861  |  0.097764523  | -0.057161545  |  0.9870054475 | -0.0169213401 | -0.011545892  | -0.071076735  |  0.9927961826 | -0.0397223324 | ⋯             | -0.114837164  | -0.014775758  |  0.0480971744 | -0.017221877  | -0.008179032  | -0.001535392  |  0.055009016  |  0.0012696222 | -0.0688944000 | -0.0440780984 | \n",
       "| NumberOfDependents |  0.0001160652 |  0.047337592  |  0.090603827  | -0.216035159  | -0.0045357033 | -0.1445595830 |  0.091933798  |  0.073866538  | -0.0119700112 |  0.1295620043 | ⋯             | -0.072916717  | -0.137409389  | -0.0185408619 |  0.148251882  |  0.117704449  |  0.224357619  |  0.099609820  | -0.1176104437 |  0.0165871005 |  0.0895498666 | \n",
       "| NoDebt | -0.0003425192 |  0.010639246  |  0.062829253  | -0.001936689  |  0.1846787266 | -0.0765006588 | -0.022095447  | -0.203265934  |  0.1945972375 | -0.1513325125 | ⋯             |  0.009809940  | -0.062596124  |  0.0475646053 | -0.047042025  | -0.023696005  |  0.007753279  |  0.113378645  |  0.0098330891 | -0.1397987135 | -0.1279298429 | \n",
       "| VeryHighDebtRatio |  0.0012362636 |  0.033498915  |  0.018245613  |  0.022892757  | -0.0030733415 | -0.0908543721 | -0.037730808  |  0.051909182  | -0.0072051035 |  0.1122586695 | ⋯             | -0.010627306  | -0.084446415  |  0.0954253230 | -0.065639069  | -0.041424031  | -0.011266916  | -0.009903675  |  0.0566812704 |  0.0191217593 |  0.0731899870 | \n",
       "| ExtremelyHighDebtRatio | -0.0034363247 | -0.015986384  | -0.036777817  |  0.055927046  | -0.0200074877 |  0.9885247100 | -0.182502389  | -0.019264848  | -0.0173700217 |  0.0430714646 | ⋯             |  0.022812757  |  0.970666282  | -0.0211689869 | -0.164403354  | -0.191041923  | -0.899676206  | -0.025279385  |  0.8521885882 |  0.0006270114 |  0.0516429197 | \n",
       "| NoRevolvingUtilization | -0.0030793906 | -0.041900282  | -0.255312129  |  0.009395854  | -0.0186564430 |  0.0189012170 | -0.009116261  | -0.104083116  | -0.0147617011 | -0.0265166769 | ⋯             |  0.049128375  |  0.021502612  |  0.0136178023 | -0.018409326  | -0.010324946  | -0.035254263  |  0.295454311  |  0.0341324294 | -0.0566465529 | -0.0094224087 | \n",
       "| HighRevolvingUtilization |  0.0028489884 |  0.184205156  |  0.296152168  | -0.084165225  |  0.0212958144 | -0.0074504071 | -0.011703239  | -0.061201417  |  0.0133895674 | -0.0450004892 | ⋯             | -0.167634853  | -0.007212547  | -0.0001038826 | -0.022590001  | -0.004169113  |  0.004678073  |  0.159909663  | -0.0044292019 | -0.1190330680 | -0.0757414441 | \n",
       "| WeirdPastDue | -0.0009276025 |  0.081400841  |  0.082493327  | -0.051793477  |  0.9860756807 | -0.0167999670 | -0.010881353  | -0.069562062  |  0.9932046740 | -0.0382015920 | ⋯             | -0.084135774  | -0.014690142  |  0.0487020647 | -0.015327966  | -0.008004786  | -0.001710901  |  0.044785143  |  0.0008194769 | -0.0504756777 | -0.0322939439 | \n",
       "| NeverPastDue |  0.0014838937 | -0.314407321  | -0.314840468  |  0.126948171  | -0.1993315935 |  0.0245868267 |  0.004409845  | -0.010249448  | -0.1266299458 |  0.0066501679 | ⋯             |  1.000000000  |  0.023450958  |  0.0076134651 |  0.019160954  | -0.006658444  | -0.030132652  | -0.227305144  |  0.0048927486 |  0.5999312208 |  0.3838313038 | \n",
       "| NoIncome | -0.0023636925 | -0.017135110  | -0.036190041  |  0.047560238  | -0.0173146586 |  0.9808677152 | -0.184023321  | -0.018199101  | -0.0148606393 |  0.0474111550 | ⋯             |  0.023450958  |  1.000000000  | -0.0295571075 | -0.163243251  | -0.192371624  | -0.919080057  | -0.025690494  |  0.8407223905 |  0.0010176343 |  0.0553476670 | \n",
       "| LowIncome | -0.0035362892 | -0.006955977  |  0.005391994  | -0.038516021  |  0.0463881368 | -0.0194001784 | -0.027324421  | -0.045505230  |  0.0480192789 | -0.0396243472 | ⋯             |  0.007613465  | -0.029557107  |  1.0000000000 | -0.025188676  | -0.028193392  | -0.132850700  |  0.006550818  |  0.0261499938 | -0.0315543644 | -0.0344914138 | \n",
       "| HighIncome | -0.0020386609 | -0.035254869  | -0.045736717  |  0.049616498  | -0.0153253838 | -0.1688485252 |  0.308492014  |  0.187697236  | -0.0196576133 |  0.2484282594 | ⋯             |  0.019160954  | -0.163243251  | -0.0251886762 |  1.000000000  |  0.298609716  |  0.347521745  | -0.020786515  | -0.1915291345 |  0.1418991013 |  0.2090955115 | \n",
       "| IncomeToAgeRatio |  0.0020047205 | -0.004272559  |  0.002647694  | -0.087327923  | -0.0061417056 | -0.1950135780 |  0.979493526  |  0.077968515  | -0.0091761704 |  0.1089167249 | ⋯             | -0.006658444  | -0.192371624  | -0.0281933921 |  0.298609716  |  1.000000000  |  0.321306910  |  0.016758221  | -0.2077539073 |  0.0511233973 |  0.0880327131 | \n",
       "| LogIncomeToAgeRatio |  0.0015682066 |  0.013348313  |  0.038140979  | -0.144140532  |  0.0031561782 | -0.9117085268 |  0.299290813  |  0.099628930  | -0.0022073559 |  0.0741058206 | ⋯             | -0.030132652  | -0.919080057  | -0.1328507002 |  0.347521745  |  0.321306910  |  1.000000000  |  0.042330158  | -0.8165224216 |  0.0539729991 |  0.0477385399 | \n",
       "| LogRevolvingUtilization | -0.0066604714 |  0.185090923  |  0.684176232  | -0.282636605  |  0.0730535287 | -0.0310305908 | -0.008515783  | -0.115714287  |  0.0620290655 | -0.0101397366 | ⋯             | -0.227305144  | -0.025690494  |  0.0065508180 | -0.020786515  |  0.016758221  |  0.042330158  |  1.000000000  |  0.0481491825 | -0.2013384715 | -0.0710790970 | \n",
       "| LogDebtRatio | -0.0002686593 |  0.002329471  |  0.014669630  |  0.037729008  |  0.0017024032 |  0.8694131622 | -0.201354570  |  0.040064007  |  0.0006856521 |  0.1475202117 | ⋯             |  0.004892749  |  0.840722391  |  0.0261499938 | -0.191529135  | -0.207753907  | -0.816522422  |  0.048149182  |  1.0000000000 |  0.0286951946 |  0.1299236657 | \n",
       "| NeverPastDueXNumberOfLines |  0.0045219187 | -0.180397538  | -0.263546398  |  0.160122460  | -0.1195852462 |  0.0005356109 |  0.068228062  |  0.695815874  | -0.0759692580 |  0.2987713458 | ⋯             |  0.599931221  |  0.001017634  | -0.0315543644 |  0.141899101  |  0.051123397  |  0.053972999  | -0.201338471  |  0.0286951946 |  1.0000000000 |  0.5415547664 | \n",
       "| NeverPastDueXRealEstate | -0.0009455089 | -0.105456870  | -0.143365477  |  0.043368217  | -0.0765097054 |  0.0530077377 |  0.093419674  |  0.337442682  | -0.0486045372 |  0.8100269389 | ⋯             |  0.383831304  |  0.055347667  | -0.0344914138 |  0.209095512  |  0.088032713  |  0.047738540  | -0.071079097  |  0.1299236657 |  0.5415547664 |  1.0000000000 | \n",
       "\n",
       "\n"
      ],
      "text/plain": [
       "                                     X             SeriousDlqin2yrs\n",
       "X                                     1.0000000000  0.002800756    \n",
       "SeriousDlqin2yrs                      0.0028007556  1.000000000    \n",
       "RevolvingUtilizationOfUnsecuredLines -0.0055937612  0.278357834    \n",
       "age                                   0.0044010532 -0.115391149    \n",
       "NumberOfTime30.59DaysPastDueNotWorse -0.0005707951  0.125586965    \n",
       "DebtRatio                            -0.0023834656 -0.017569104    \n",
       "MonthlyIncome                         0.0026631628 -0.014772879    \n",
       "NumberOfOpenCreditLinesAndLoans       0.0045855423 -0.029668568    \n",
       "NumberOfTimes90DaysLate              -0.0011040043  0.117174613    \n",
       "NumberRealEstateLoansOrLines         -0.0006655035 -0.007038116    \n",
       "NumberOfTime60.89DaysPastDueNotWorse -0.0007772401  0.102260861    \n",
       "NumberOfDependents                    0.0001160652  0.047337592    \n",
       "NoDebt                               -0.0003425192  0.010639246    \n",
       "VeryHighDebtRatio                     0.0012362636  0.033498915    \n",
       "ExtremelyHighDebtRatio               -0.0034363247 -0.015986384    \n",
       "NoRevolvingUtilization               -0.0030793906 -0.041900282    \n",
       "HighRevolvingUtilization              0.0028489884  0.184205156    \n",
       "WeirdPastDue                         -0.0009276025  0.081400841    \n",
       "NeverPastDue                          0.0014838937 -0.314407321    \n",
       "NoIncome                             -0.0023636925 -0.017135110    \n",
       "LowIncome                            -0.0035362892 -0.006955977    \n",
       "HighIncome                           -0.0020386609 -0.035254869    \n",
       "IncomeToAgeRatio                      0.0020047205 -0.004272559    \n",
       "LogIncomeToAgeRatio                   0.0015682066  0.013348313    \n",
       "LogRevolvingUtilization              -0.0066604714  0.185090923    \n",
       "LogDebtRatio                         -0.0002686593  0.002329471    \n",
       "NeverPastDueXNumberOfLines            0.0045219187 -0.180397538    \n",
       "NeverPastDueXRealEstate              -0.0009455089 -0.105456870    \n",
       "                                     RevolvingUtilizationOfUnsecuredLines\n",
       "X                                    -0.005593761                        \n",
       "SeriousDlqin2yrs                      0.278357834                        \n",
       "RevolvingUtilizationOfUnsecuredLines  1.000000000                        \n",
       "age                                  -0.279178551                        \n",
       "NumberOfTime30.59DaysPastDueNotWorse  0.121101683                        \n",
       "DebtRatio                            -0.041460214                        \n",
       "MonthlyIncome                        -0.022643776                        \n",
       "NumberOfOpenCreditLinesAndLoans      -0.160567813                        \n",
       "NumberOfTimes90DaysLate               0.109728321                        \n",
       "NumberRealEstateLoansOrLines         -0.068982007                        \n",
       "NumberOfTime60.89DaysPastDueNotWorse  0.097764523                        \n",
       "NumberOfDependents                    0.090603827                        \n",
       "NoDebt                                0.062829253                        \n",
       "VeryHighDebtRatio                     0.018245613                        \n",
       "ExtremelyHighDebtRatio               -0.036777817                        \n",
       "NoRevolvingUtilization               -0.255312129                        \n",
       "HighRevolvingUtilization              0.296152168                        \n",
       "WeirdPastDue                          0.082493327                        \n",
       "NeverPastDue                         -0.314840468                        \n",
       "NoIncome                             -0.036190041                        \n",
       "LowIncome                             0.005391994                        \n",
       "HighIncome                           -0.045736717                        \n",
       "IncomeToAgeRatio                      0.002647694                        \n",
       "LogIncomeToAgeRatio                   0.038140979                        \n",
       "LogRevolvingUtilization               0.684176232                        \n",
       "LogDebtRatio                          0.014669630                        \n",
       "NeverPastDueXNumberOfLines           -0.263546398                        \n",
       "NeverPastDueXRealEstate              -0.143365477                        \n",
       "                                     age         \n",
       "X                                     0.004401053\n",
       "SeriousDlqin2yrs                     -0.115391149\n",
       "RevolvingUtilizationOfUnsecuredLines -0.279178551\n",
       "age                                   1.000000000\n",
       "NumberOfTime30.59DaysPastDueNotWorse -0.062995538\n",
       "DebtRatio                             0.061963491\n",
       "MonthlyIncome                         0.014438937\n",
       "NumberOfOpenCreditLinesAndLoans       0.147704762\n",
       "NumberOfTimes90DaysLate              -0.061006949\n",
       "NumberRealEstateLoansOrLines          0.033159398\n",
       "NumberOfTime60.89DaysPastDueNotWorse -0.057161545\n",
       "NumberOfDependents                   -0.216035159\n",
       "NoDebt                               -0.001936689\n",
       "VeryHighDebtRatio                     0.022892757\n",
       "ExtremelyHighDebtRatio                0.055927046\n",
       "NoRevolvingUtilization                0.009395854\n",
       "HighRevolvingUtilization             -0.084165225\n",
       "WeirdPastDue                         -0.051793477\n",
       "NeverPastDue                          0.126948171\n",
       "NoIncome                              0.047560238\n",
       "LowIncome                            -0.038516021\n",
       "HighIncome                            0.049616498\n",
       "IncomeToAgeRatio                     -0.087327923\n",
       "LogIncomeToAgeRatio                  -0.144140532\n",
       "LogRevolvingUtilization              -0.282636605\n",
       "LogDebtRatio                          0.037729008\n",
       "NeverPastDueXNumberOfLines            0.160122460\n",
       "NeverPastDueXRealEstate               0.043368217\n",
       "                                     NumberOfTime30.59DaysPastDueNotWorse\n",
       "X                                    -0.0005707951                       \n",
       "SeriousDlqin2yrs                      0.1255869646                       \n",
       "RevolvingUtilizationOfUnsecuredLines  0.1211016835                       \n",
       "age                                  -0.0629955384                       \n",
       "NumberOfTime30.59DaysPastDueNotWorse  1.0000000000                       \n",
       "DebtRatio                            -0.0195554054                       \n",
       "MonthlyIncome                        -0.0100281667                       \n",
       "NumberOfOpenCreditLinesAndLoans      -0.0553122362                       \n",
       "NumberOfTimes90DaysLate               0.9836026813                       \n",
       "NumberRealEstateLoansOrLines         -0.0305645347                       \n",
       "NumberOfTime60.89DaysPastDueNotWorse  0.9870054475                       \n",
       "NumberOfDependents                   -0.0045357033                       \n",
       "NoDebt                                0.1846787266                       \n",
       "VeryHighDebtRatio                    -0.0030733415                       \n",
       "ExtremelyHighDebtRatio               -0.0200074877                       \n",
       "NoRevolvingUtilization               -0.0186564430                       \n",
       "HighRevolvingUtilization              0.0212958144                       \n",
       "WeirdPastDue                          0.9860756807                       \n",
       "NeverPastDue                         -0.1993315935                       \n",
       "NoIncome                             -0.0173146586                       \n",
       "LowIncome                             0.0463881368                       \n",
       "HighIncome                           -0.0153253838                       \n",
       "IncomeToAgeRatio                     -0.0061417056                       \n",
       "LogIncomeToAgeRatio                   0.0031561782                       \n",
       "LogRevolvingUtilization               0.0730535287                       \n",
       "LogDebtRatio                          0.0017024032                       \n",
       "NeverPastDueXNumberOfLines           -0.1195852462                       \n",
       "NeverPastDueXRealEstate              -0.0765097054                       \n",
       "                                     DebtRatio     MonthlyIncome\n",
       "X                                    -0.0023834656  0.002663163 \n",
       "SeriousDlqin2yrs                     -0.0175691038 -0.014772879 \n",
       "RevolvingUtilizationOfUnsecuredLines -0.0414602138 -0.022643776 \n",
       "age                                   0.0619634914  0.014438937 \n",
       "NumberOfTime30.59DaysPastDueNotWorse -0.0195554054 -0.010028167 \n",
       "DebtRatio                             1.0000000000 -0.186011702 \n",
       "MonthlyIncome                        -0.1860117025  1.000000000 \n",
       "NumberOfOpenCreditLinesAndLoans      -0.0201400702  0.095400569 \n",
       "NumberOfTimes90DaysLate              -0.0169497152 -0.012835009 \n",
       "NumberRealEstateLoansOrLines          0.0444801034  0.113872191 \n",
       "NumberOfTime60.89DaysPastDueNotWorse -0.0169213401 -0.011545892 \n",
       "NumberOfDependents                   -0.1445595830  0.091933798 \n",
       "NoDebt                               -0.0765006588 -0.022095447 \n",
       "VeryHighDebtRatio                    -0.0908543721 -0.037730808 \n",
       "ExtremelyHighDebtRatio                0.9885247100 -0.182502389 \n",
       "NoRevolvingUtilization                0.0189012170 -0.009116261 \n",
       "HighRevolvingUtilization             -0.0074504071 -0.011703239 \n",
       "WeirdPastDue                         -0.0167999670 -0.010881353 \n",
       "NeverPastDue                          0.0245868267  0.004409845 \n",
       "NoIncome                              0.9808677152 -0.184023321 \n",
       "LowIncome                            -0.0194001784 -0.027324421 \n",
       "HighIncome                           -0.1688485252  0.308492014 \n",
       "IncomeToAgeRatio                     -0.1950135780  0.979493526 \n",
       "LogIncomeToAgeRatio                  -0.9117085268  0.299290813 \n",
       "LogRevolvingUtilization              -0.0310305908 -0.008515783 \n",
       "LogDebtRatio                          0.8694131622 -0.201354570 \n",
       "NeverPastDueXNumberOfLines            0.0005356109  0.068228062 \n",
       "NeverPastDueXRealEstate               0.0530077377  0.093419674 \n",
       "                                     NumberOfOpenCreditLinesAndLoans\n",
       "X                                     0.004585542                   \n",
       "SeriousDlqin2yrs                     -0.029668568                   \n",
       "RevolvingUtilizationOfUnsecuredLines -0.160567813                   \n",
       "age                                   0.147704762                   \n",
       "NumberOfTime30.59DaysPastDueNotWorse -0.055312236                   \n",
       "DebtRatio                            -0.020140070                   \n",
       "MonthlyIncome                         0.095400569                   \n",
       "NumberOfOpenCreditLinesAndLoans       1.000000000                   \n",
       "NumberOfTimes90DaysLate              -0.079984350                   \n",
       "NumberRealEstateLoansOrLines          0.433958603                   \n",
       "NumberOfTime60.89DaysPastDueNotWorse -0.071076735                   \n",
       "NumberOfDependents                    0.073866538                   \n",
       "NoDebt                               -0.203265934                   \n",
       "VeryHighDebtRatio                     0.051909182                   \n",
       "ExtremelyHighDebtRatio               -0.019264848                   \n",
       "NoRevolvingUtilization               -0.104083116                   \n",
       "HighRevolvingUtilization             -0.061201417                   \n",
       "WeirdPastDue                         -0.069562062                   \n",
       "NeverPastDue                         -0.010249448                   \n",
       "NoIncome                             -0.018199101                   \n",
       "LowIncome                            -0.045505230                   \n",
       "HighIncome                            0.187697236                   \n",
       "IncomeToAgeRatio                      0.077968515                   \n",
       "LogIncomeToAgeRatio                   0.099628930                   \n",
       "LogRevolvingUtilization              -0.115714287                   \n",
       "LogDebtRatio                          0.040064007                   \n",
       "NeverPastDueXNumberOfLines            0.695815874                   \n",
       "NeverPastDueXRealEstate               0.337442682                   \n",
       "                                     NumberOfTimes90DaysLate\n",
       "X                                    -0.0011040043          \n",
       "SeriousDlqin2yrs                      0.1171746134          \n",
       "RevolvingUtilizationOfUnsecuredLines  0.1097283209          \n",
       "age                                  -0.0610069488          \n",
       "NumberOfTime30.59DaysPastDueNotWorse  0.9836026813          \n",
       "DebtRatio                            -0.0169497152          \n",
       "MonthlyIncome                        -0.0128350088          \n",
       "NumberOfOpenCreditLinesAndLoans      -0.0799843498          \n",
       "NumberOfTimes90DaysLate               1.0000000000          \n",
       "NumberRealEstateLoansOrLines         -0.0452052165          \n",
       "NumberOfTime60.89DaysPastDueNotWorse  0.9927961826          \n",
       "NumberOfDependents                   -0.0119700112          \n",
       "NoDebt                                0.1945972375          \n",
       "VeryHighDebtRatio                    -0.0072051035          \n",
       "ExtremelyHighDebtRatio               -0.0173700217          \n",
       "NoRevolvingUtilization               -0.0147617011          \n",
       "HighRevolvingUtilization              0.0133895674          \n",
       "WeirdPastDue                          0.9932046740          \n",
       "NeverPastDue                         -0.1266299458          \n",
       "NoIncome                             -0.0148606393          \n",
       "LowIncome                             0.0480192789          \n",
       "HighIncome                           -0.0196576133          \n",
       "IncomeToAgeRatio                     -0.0091761704          \n",
       "LogIncomeToAgeRatio                  -0.0022073559          \n",
       "LogRevolvingUtilization               0.0620290655          \n",
       "LogDebtRatio                          0.0006856521          \n",
       "NeverPastDueXNumberOfLines           -0.0759692580          \n",
       "NeverPastDueXRealEstate              -0.0486045372          \n",
       "                                     NumberRealEstateLoansOrLines ⋯\n",
       "X                                    -0.0006655035                ⋯\n",
       "SeriousDlqin2yrs                     -0.0070381163                ⋯\n",
       "RevolvingUtilizationOfUnsecuredLines -0.0689820067                ⋯\n",
       "age                                   0.0331593980                ⋯\n",
       "NumberOfTime30.59DaysPastDueNotWorse -0.0305645347                ⋯\n",
       "DebtRatio                             0.0444801034                ⋯\n",
       "MonthlyIncome                         0.1138721909                ⋯\n",
       "NumberOfOpenCreditLinesAndLoans       0.4339586031                ⋯\n",
       "NumberOfTimes90DaysLate              -0.0452052165                ⋯\n",
       "NumberRealEstateLoansOrLines          1.0000000000                ⋯\n",
       "NumberOfTime60.89DaysPastDueNotWorse -0.0397223324                ⋯\n",
       "NumberOfDependents                    0.1295620043                ⋯\n",
       "NoDebt                               -0.1513325125                ⋯\n",
       "VeryHighDebtRatio                     0.1122586695                ⋯\n",
       "ExtremelyHighDebtRatio                0.0430714646                ⋯\n",
       "NoRevolvingUtilization               -0.0265166769                ⋯\n",
       "HighRevolvingUtilization             -0.0450004892                ⋯\n",
       "WeirdPastDue                         -0.0382015920                ⋯\n",
       "NeverPastDue                          0.0066501679                ⋯\n",
       "NoIncome                              0.0474111550                ⋯\n",
       "LowIncome                            -0.0396243472                ⋯\n",
       "HighIncome                            0.2484282594                ⋯\n",
       "IncomeToAgeRatio                      0.1089167249                ⋯\n",
       "LogIncomeToAgeRatio                   0.0741058206                ⋯\n",
       "LogRevolvingUtilization              -0.0101397366                ⋯\n",
       "LogDebtRatio                          0.1475202117                ⋯\n",
       "NeverPastDueXNumberOfLines            0.2987713458                ⋯\n",
       "NeverPastDueXRealEstate               0.8100269389                ⋯\n",
       "                                     NeverPastDue NoIncome     LowIncome    \n",
       "X                                     0.001483894 -0.002363692 -0.0035362892\n",
       "SeriousDlqin2yrs                     -0.314407321 -0.017135110 -0.0069559771\n",
       "RevolvingUtilizationOfUnsecuredLines -0.314840468 -0.036190041  0.0053919936\n",
       "age                                   0.126948171  0.047560238 -0.0385160213\n",
       "NumberOfTime30.59DaysPastDueNotWorse -0.199331593 -0.017314659  0.0463881368\n",
       "DebtRatio                             0.024586827  0.980867715 -0.0194001784\n",
       "MonthlyIncome                         0.004409845 -0.184023321 -0.0273244206\n",
       "NumberOfOpenCreditLinesAndLoans      -0.010249448 -0.018199101 -0.0455052300\n",
       "NumberOfTimes90DaysLate              -0.126629946 -0.014860639  0.0480192789\n",
       "NumberRealEstateLoansOrLines          0.006650168  0.047411155 -0.0396243472\n",
       "NumberOfTime60.89DaysPastDueNotWorse -0.114837164 -0.014775758  0.0480971744\n",
       "NumberOfDependents                   -0.072916717 -0.137409389 -0.0185408619\n",
       "NoDebt                                0.009809940 -0.062596124  0.0475646053\n",
       "VeryHighDebtRatio                    -0.010627306 -0.084446415  0.0954253230\n",
       "ExtremelyHighDebtRatio                0.022812757  0.970666282 -0.0211689869\n",
       "NoRevolvingUtilization                0.049128375  0.021502612  0.0136178023\n",
       "HighRevolvingUtilization             -0.167634853 -0.007212547 -0.0001038826\n",
       "WeirdPastDue                         -0.084135774 -0.014690142  0.0487020647\n",
       "NeverPastDue                          1.000000000  0.023450958  0.0076134651\n",
       "NoIncome                              0.023450958  1.000000000 -0.0295571075\n",
       "LowIncome                             0.007613465 -0.029557107  1.0000000000\n",
       "HighIncome                            0.019160954 -0.163243251 -0.0251886762\n",
       "IncomeToAgeRatio                     -0.006658444 -0.192371624 -0.0281933921\n",
       "LogIncomeToAgeRatio                  -0.030132652 -0.919080057 -0.1328507002\n",
       "LogRevolvingUtilization              -0.227305144 -0.025690494  0.0065508180\n",
       "LogDebtRatio                          0.004892749  0.840722391  0.0261499938\n",
       "NeverPastDueXNumberOfLines            0.599931221  0.001017634 -0.0315543644\n",
       "NeverPastDueXRealEstate               0.383831304  0.055347667 -0.0344914138\n",
       "                                     HighIncome   IncomeToAgeRatio\n",
       "X                                    -0.002038661  0.002004721    \n",
       "SeriousDlqin2yrs                     -0.035254869 -0.004272559    \n",
       "RevolvingUtilizationOfUnsecuredLines -0.045736717  0.002647694    \n",
       "age                                   0.049616498 -0.087327923    \n",
       "NumberOfTime30.59DaysPastDueNotWorse -0.015325384 -0.006141706    \n",
       "DebtRatio                            -0.168848525 -0.195013578    \n",
       "MonthlyIncome                         0.308492014  0.979493526    \n",
       "NumberOfOpenCreditLinesAndLoans       0.187697236  0.077968515    \n",
       "NumberOfTimes90DaysLate              -0.019657613 -0.009176170    \n",
       "NumberRealEstateLoansOrLines          0.248428259  0.108916725    \n",
       "NumberOfTime60.89DaysPastDueNotWorse -0.017221877 -0.008179032    \n",
       "NumberOfDependents                    0.148251882  0.117704449    \n",
       "NoDebt                               -0.047042025 -0.023696005    \n",
       "VeryHighDebtRatio                    -0.065639069 -0.041424031    \n",
       "ExtremelyHighDebtRatio               -0.164403354 -0.191041923    \n",
       "NoRevolvingUtilization               -0.018409326 -0.010324946    \n",
       "HighRevolvingUtilization             -0.022590001 -0.004169113    \n",
       "WeirdPastDue                         -0.015327966 -0.008004786    \n",
       "NeverPastDue                          0.019160954 -0.006658444    \n",
       "NoIncome                             -0.163243251 -0.192371624    \n",
       "LowIncome                            -0.025188676 -0.028193392    \n",
       "HighIncome                            1.000000000  0.298609716    \n",
       "IncomeToAgeRatio                      0.298609716  1.000000000    \n",
       "LogIncomeToAgeRatio                   0.347521745  0.321306910    \n",
       "LogRevolvingUtilization              -0.020786515  0.016758221    \n",
       "LogDebtRatio                         -0.191529135 -0.207753907    \n",
       "NeverPastDueXNumberOfLines            0.141899101  0.051123397    \n",
       "NeverPastDueXRealEstate               0.209095512  0.088032713    \n",
       "                                     LogIncomeToAgeRatio\n",
       "X                                     0.001568207       \n",
       "SeriousDlqin2yrs                      0.013348313       \n",
       "RevolvingUtilizationOfUnsecuredLines  0.038140979       \n",
       "age                                  -0.144140532       \n",
       "NumberOfTime30.59DaysPastDueNotWorse  0.003156178       \n",
       "DebtRatio                            -0.911708527       \n",
       "MonthlyIncome                         0.299290813       \n",
       "NumberOfOpenCreditLinesAndLoans       0.099628930       \n",
       "NumberOfTimes90DaysLate              -0.002207356       \n",
       "NumberRealEstateLoansOrLines          0.074105821       \n",
       "NumberOfTime60.89DaysPastDueNotWorse -0.001535392       \n",
       "NumberOfDependents                    0.224357619       \n",
       "NoDebt                                0.007753279       \n",
       "VeryHighDebtRatio                    -0.011266916       \n",
       "ExtremelyHighDebtRatio               -0.899676206       \n",
       "NoRevolvingUtilization               -0.035254263       \n",
       "HighRevolvingUtilization              0.004678073       \n",
       "WeirdPastDue                         -0.001710901       \n",
       "NeverPastDue                         -0.030132652       \n",
       "NoIncome                             -0.919080057       \n",
       "LowIncome                            -0.132850700       \n",
       "HighIncome                            0.347521745       \n",
       "IncomeToAgeRatio                      0.321306910       \n",
       "LogIncomeToAgeRatio                   1.000000000       \n",
       "LogRevolvingUtilization               0.042330158       \n",
       "LogDebtRatio                         -0.816522422       \n",
       "NeverPastDueXNumberOfLines            0.053972999       \n",
       "NeverPastDueXRealEstate               0.047738540       \n",
       "                                     LogRevolvingUtilization LogDebtRatio \n",
       "X                                    -0.006660471            -0.0002686593\n",
       "SeriousDlqin2yrs                      0.185090923             0.0023294712\n",
       "RevolvingUtilizationOfUnsecuredLines  0.684176232             0.0146696303\n",
       "age                                  -0.282636605             0.0377290080\n",
       "NumberOfTime30.59DaysPastDueNotWorse  0.073053529             0.0017024032\n",
       "DebtRatio                            -0.031030591             0.8694131622\n",
       "MonthlyIncome                        -0.008515783            -0.2013545702\n",
       "NumberOfOpenCreditLinesAndLoans      -0.115714287             0.0400640069\n",
       "NumberOfTimes90DaysLate               0.062029066             0.0006856521\n",
       "NumberRealEstateLoansOrLines         -0.010139737             0.1475202117\n",
       "NumberOfTime60.89DaysPastDueNotWorse  0.055009016             0.0012696222\n",
       "NumberOfDependents                    0.099609820            -0.1176104437\n",
       "NoDebt                                0.113378645             0.0098330891\n",
       "VeryHighDebtRatio                    -0.009903675             0.0566812704\n",
       "ExtremelyHighDebtRatio               -0.025279385             0.8521885882\n",
       "NoRevolvingUtilization                0.295454311             0.0341324294\n",
       "HighRevolvingUtilization              0.159909663            -0.0044292019\n",
       "WeirdPastDue                          0.044785143             0.0008194769\n",
       "NeverPastDue                         -0.227305144             0.0048927486\n",
       "NoIncome                             -0.025690494             0.8407223905\n",
       "LowIncome                             0.006550818             0.0261499938\n",
       "HighIncome                           -0.020786515            -0.1915291345\n",
       "IncomeToAgeRatio                      0.016758221            -0.2077539073\n",
       "LogIncomeToAgeRatio                   0.042330158            -0.8165224216\n",
       "LogRevolvingUtilization               1.000000000             0.0481491825\n",
       "LogDebtRatio                          0.048149182             1.0000000000\n",
       "NeverPastDueXNumberOfLines           -0.201338471             0.0286951946\n",
       "NeverPastDueXRealEstate              -0.071079097             0.1299236657\n",
       "                                     NeverPastDueXNumberOfLines\n",
       "X                                     0.0045219187             \n",
       "SeriousDlqin2yrs                     -0.1803975377             \n",
       "RevolvingUtilizationOfUnsecuredLines -0.2635463983             \n",
       "age                                   0.1601224596             \n",
       "NumberOfTime30.59DaysPastDueNotWorse -0.1195852462             \n",
       "DebtRatio                             0.0005356109             \n",
       "MonthlyIncome                         0.0682280616             \n",
       "NumberOfOpenCreditLinesAndLoans       0.6958158736             \n",
       "NumberOfTimes90DaysLate              -0.0759692580             \n",
       "NumberRealEstateLoansOrLines          0.2987713458             \n",
       "NumberOfTime60.89DaysPastDueNotWorse -0.0688944000             \n",
       "NumberOfDependents                    0.0165871005             \n",
       "NoDebt                               -0.1397987135             \n",
       "VeryHighDebtRatio                     0.0191217593             \n",
       "ExtremelyHighDebtRatio                0.0006270114             \n",
       "NoRevolvingUtilization               -0.0566465529             \n",
       "HighRevolvingUtilization             -0.1190330680             \n",
       "WeirdPastDue                         -0.0504756777             \n",
       "NeverPastDue                          0.5999312208             \n",
       "NoIncome                              0.0010176343             \n",
       "LowIncome                            -0.0315543644             \n",
       "HighIncome                            0.1418991013             \n",
       "IncomeToAgeRatio                      0.0511233973             \n",
       "LogIncomeToAgeRatio                   0.0539729991             \n",
       "LogRevolvingUtilization              -0.2013384715             \n",
       "LogDebtRatio                          0.0286951946             \n",
       "NeverPastDueXNumberOfLines            1.0000000000             \n",
       "NeverPastDueXRealEstate               0.5415547664             \n",
       "                                     NeverPastDueXRealEstate\n",
       "X                                    -0.0009455089          \n",
       "SeriousDlqin2yrs                     -0.1054568702          \n",
       "RevolvingUtilizationOfUnsecuredLines -0.1433654772          \n",
       "age                                   0.0433682169          \n",
       "NumberOfTime30.59DaysPastDueNotWorse -0.0765097054          \n",
       "DebtRatio                             0.0530077377          \n",
       "MonthlyIncome                         0.0934196741          \n",
       "NumberOfOpenCreditLinesAndLoans       0.3374426816          \n",
       "NumberOfTimes90DaysLate              -0.0486045372          \n",
       "NumberRealEstateLoansOrLines          0.8100269389          \n",
       "NumberOfTime60.89DaysPastDueNotWorse -0.0440780984          \n",
       "NumberOfDependents                    0.0895498666          \n",
       "NoDebt                               -0.1279298429          \n",
       "VeryHighDebtRatio                     0.0731899870          \n",
       "ExtremelyHighDebtRatio                0.0516429197          \n",
       "NoRevolvingUtilization               -0.0094224087          \n",
       "HighRevolvingUtilization             -0.0757414441          \n",
       "WeirdPastDue                         -0.0322939439          \n",
       "NeverPastDue                          0.3838313038          \n",
       "NoIncome                              0.0553476670          \n",
       "LowIncome                            -0.0344914138          \n",
       "HighIncome                            0.2090955115          \n",
       "IncomeToAgeRatio                      0.0880327131          \n",
       "LogIncomeToAgeRatio                   0.0477385399          \n",
       "LogRevolvingUtilization              -0.0710790970          \n",
       "LogDebtRatio                          0.1299236657          \n",
       "NeverPastDueXNumberOfLines            0.5415547664          \n",
       "NeverPastDueXRealEstate               1.0000000000          "
      ]
     },
     "metadata": {},
     "output_type": "display_data"
    }
   ],
   "source": [
    "cor ( df )"
   ]
  },
  {
   "cell_type": "markdown",
   "metadata": {},
   "source": [
    "# Data Preprocessing "
   ]
  },
  {
   "cell_type": "markdown",
   "metadata": {},
   "source": [
    "All in all, we've created numerous functions for dealing with most features in the dataset to create a 'preprocessing grid search' with over 30 combinations. We tested all the combinations with cross-validated AUCs to come up with what we believe to be the best preprocessing routine. The long and ugly scratch work has been excluded  from the final write-up, but you can swap any of the functions from the preprocessing routine below with any of the relevant functions that have been written above for a slightly different method of preprocessing the dataset.\n",
    "\n",
    "Our selection of preprocessing methods are the following:"
   ]
  },
  {
   "cell_type": "code",
   "execution_count": 19,
   "metadata": {},
   "outputs": [],
   "source": [
    "df.test <- df\n",
    "df.test <- ImputeMonthlyIncomeWithZeroForHighDR(df.test)\n",
    "data_imputed <- knn.impute(as.matrix(df.test),k=10,cat.var = c(4,7:11), to.impute = 2:nrow(df), using = 2:nrow(df))\n",
    "write.csv(data_imputed, \"data_imputed.csv\") # save for quick retrieval for future runs\n",
    "df.test <- data_imputed\n",
    "df.test <- AddFeatures ( as.data.frame ( df.test ) )\n",
    "df.test <- WinsorizeHighRevolvingUtil( df.test, 0.02 ) \n",
    "df.test <- WinsorizeDebtRatio( df.test, 0.15 )\n",
    "df.test <- ExpandFeatureSpace ( df.test )\n",
    "write.csv(df.test, \"cleanDataFinal.csv\")"
   ]
  },
  {
   "cell_type": "markdown",
   "metadata": {},
   "source": [
    "# Modeling: K-Nearest Neighbor"
   ]
  },
  {
   "cell_type": "markdown",
   "metadata": {},
   "source": [
    "We first attempted a classification model with K-Nearest Neighbors classifier, figuring that if it worked well as an imputation method, then it might also serve well as a classifier. Unfortunately, we were wrong. Computation time is long for extensive grid searching, but since we did this early, we had time to run it overnight. But sadly even after extensive grid searching and 10-fold cross-validation, we were unable to achieve cross-validated AUCs of higher than ~0.63. \n",
    "\n",
    "We think that KNN was too basic of a model for this problem. KNN relies completely on distance and thus suffers from reduced effectiveness on higher dimensional datasets. It also has trouble generalizing noisier data, even with pretty extensive cleaning."
   ]
  },
  {
   "cell_type": "code",
   "execution_count": null,
   "metadata": {},
   "outputs": [],
   "source": [
    "library(pROC)\n",
    "library(class)\n",
    "### generates 10 random folds\n",
    "index <- 1:150000\n",
    "x1 <- sample(index,15000, replace = FALSE)\n",
    "index <- setdiff(index,x1)\n",
    "x2 <- sample(index, 15000, replace = FALSE)\n",
    "index <- setdiff(index,x2)\n",
    "x3 <- sample(index, 15000, replace = FALSE)\n",
    "index <- setdiff(index,x3)\n",
    "x4 <- sample(index, 15000, replace = FALSE)\n",
    "index <- setdiff(index,x4)\n",
    "x5 <- sample(index, 15000, replace = FALSE)\n",
    "index <- setdiff(index,x5)\n",
    "x6 <- sample(index, 15000, replace = FALSE)\n",
    "index <- setdiff(index,x6)\n",
    "x7 <- sample(index, 15000, replace = FALSE)\n",
    "index <- setdiff(index,x7)\n",
    "x8 <- sample(index, 15000, replace = FALSE)\n",
    "index <- setdiff(index,x8)\n",
    "x9 <- sample(index, 15000, replace = FALSE)\n",
    "x10 <- setdiff(index,x9)\n",
    "\n",
    "\n",
    "# puts in a matrix\n",
    "folds <- matrix(nrow = 10, ncol = 15000)\n",
    "folds[1,] <- x1\n",
    "folds[2,] <- x2\n",
    "folds[3,] <- x3\n",
    "folds[4,] <- x4\n",
    "folds[5,] <- x5\n",
    "folds[6,] <- x6\n",
    "folds[7,] <- x7\n",
    "folds[8,] <- x8\n",
    "folds[9,] <- x9\n",
    "folds[10,] <- x10\n",
    "\n",
    "\n",
    "# runs a knn algorithm on each of the 10 k-folds, looped over the number of neighbors, returns AUC values \n",
    "aucx <- c()\n",
    "for(i in 1:3){\n",
    "  aucs <- c()\n",
    "  a <- i\n",
    "  for(j in 1:10){\n",
    "    # cv set\n",
    "    cv.set <- data_imputed_standard[folds[i,],]\n",
    "    y.cv <- as.factor(cv.set[,1])\n",
    "    x.cv <- cv.set[,-1]\n",
    "    \n",
    "    # training set\n",
    "    train <- data_imputed_standard[-(folds[i,]),]\n",
    "    y.train <- as.factor(train[,1])\n",
    "    x.train <- train[,-1]\n",
    "  \n",
    "    knni <- knn(x.train, x.cv, y.train, k = a, l = 0, prob = FALSE, use.all = TRUE) ### knn predictions\n",
    "    \n",
    "    # auc value for each fold\n",
    "    auci <- auc(y.cv,as.numeric(knni)) \n",
    "    aucs <- c(aucs,auci)\n",
    "    }\n",
    "  aucx <- c(aucx,mean(aucs))} # averages results for each value of knn"
   ]
  },
  {
   "cell_type": "markdown",
   "metadata": {},
   "source": [
    "# Modeling: Random Forest"
   ]
  },
  {
   "cell_type": "markdown",
   "metadata": {},
   "source": [
    "The next classification model we tried was a Random Forest classifier. This one was much more successful, achieving cross-validated AUC scores of around ~0.81 to ~0.82. One drawback was the very slow computation time, taking about 30 minutes per model which made extensive grid search difficult. However, its strong AUC score for even a sparse grid search is a testament to the model's power.\n",
    "\n",
    "We believe that it performed well because tree-based models seem to be more agnostic towards 1) imbalanced classes, and 2) data with lots of outliers, which both were true for our data, and could provide problems for a number of other classification algorithms.\n",
    "\n",
    "We also considered using support vector classifiers, however, scrapped it due to the long amount of computation time it was taking. SVMs tend to be better suited for high-dimensional data with fewer datapoints than the other way around anyway. The SVM's ability to perform fast on a rich feature space would have been nice, but we never augmented our feature space beyond 30 or so columns."
   ]
  },
  {
   "cell_type": "code",
   "execution_count": null,
   "metadata": {},
   "outputs": [],
   "source": []
  },
  {
   "cell_type": "markdown",
   "metadata": {},
   "source": [
    "# Modeling: Xgboost"
   ]
  },
  {
   "cell_type": "markdown",
   "metadata": {},
   "source": [
    "Our final and second most successful model was xgboost tree classification. This was both the fastest and the most accurate, achieving cross-validated AUC scores around 0.86 and able to cross-validate large grids in minutes."
   ]
  },
  {
   "cell_type": "code",
   "execution_count": 17,
   "metadata": {},
   "outputs": [],
   "source": [
    "df <- read.csv(\"cleanDataFinal.csv\")"
   ]
  },
  {
   "cell_type": "markdown",
   "metadata": {},
   "source": [
    "Here's a quick example model generated on our data with the default parameters just as a quick sanity check:"
   ]
  },
  {
   "cell_type": "code",
   "execution_count": 51,
   "metadata": {},
   "outputs": [
    {
     "name": "stdout",
     "output_type": "stream",
     "text": [
      "[1]\ttrain-auc:0.851785 \n",
      "[2]\ttrain-auc:0.858153 \n",
      "[3]\ttrain-auc:0.861567 \n",
      "[4]\ttrain-auc:0.864981 \n",
      "[5]\ttrain-auc:0.866294 \n"
     ]
    }
   ],
   "source": [
    "library(xgboost)\n",
    "fit <- xgboost(data=as.matrix(df[,3:length(df)]), label=df$SeriousDlqin2yrs, nrounds=5,\n",
    "              objective=\"binary:logistic\", eval_metric=\"auc\")"
   ]
  },
  {
   "cell_type": "markdown",
   "metadata": {},
   "source": [
    "We can get even better models by tuning our hyperparameters with cross-validation. We can implement this easily with the R package Caret. We start by doing a train-test split. "
   ]
  },
  {
   "cell_type": "code",
   "execution_count": 52,
   "metadata": {},
   "outputs": [],
   "source": [
    "ind = createDataPartition(df$SeriousDlqin2yrs, p = 0.8, list = FALSE)\n",
    "trainDF<-df[ind,2:length(df)]\n",
    "testDF<-df[-ind,2:length(df)]"
   ]
  },
  {
   "cell_type": "markdown",
   "metadata": {},
   "source": [
    "Now we can set the settings for Caret's cross-validation framework. ControlParameters are the parameters for modifying the type of cross-validation we are doing. We will be doing K-fold cross-validation with 5 folds. Note that 'classProbs' are required for returning any kind of AUC evaluation, and 'twoClassSummary' is also required for binary classification."
   ]
  },
  {
   "cell_type": "code",
   "execution_count": 53,
   "metadata": {},
   "outputs": [],
   "source": [
    "ControlParameters <- trainControl(method = \"cv\",\n",
    "                                number = 5,\n",
    "                                classProbs = TRUE,\n",
    "                                savePredictions = \"final\",\n",
    "                                summaryFunction = twoClassSummary\n",
    ")"
   ]
  },
  {
   "cell_type": "markdown",
   "metadata": {},
   "source": [
    "ParametersGrid determines the hyperparameters of Xgboost that we search over during our cross-validation. The most important parameters in our grid search for XGBoost are max_depth, eta, gamma, colsample_bytree, and min_child_weight. Nrounds will be left alone because it increases the computation time too much, so we'll just increase it once we've found our other optimal hyperparameters. "
   ]
  },
  {
   "cell_type": "code",
   "execution_count": 54,
   "metadata": {},
   "outputs": [],
   "source": [
    "ParametersGrid <- expand.grid(\n",
    "  nrounds = 2, \n",
    "  max_depth = c(5, 10, 15), \n",
    "  eta = c(0.01, 0.001, 0.0001), \n",
    "  gamma = c(1, 2, 3), \n",
    "  colsample_bytree = c(0.4, 0.7, 1.0), \n",
    "  min_child_weight = c(0.5, 1, 1.5),\n",
    "  subsample = 1\n",
    ")"
   ]
  },
  {
   "cell_type": "markdown",
   "metadata": {},
   "source": [
    "Lastly we have to convert our categorical column into a factor for Caret's XGBoost to work."
   ]
  },
  {
   "cell_type": "code",
   "execution_count": 55,
   "metadata": {},
   "outputs": [],
   "source": [
    "trainDF$SeriousDlqin2yrs <- as.factor ( trainDF$SeriousDlqin2yrs )\n",
    "levels(trainDF$SeriousDlqin2yrs) <- c(\"non.default\", \"default\")"
   ]
  },
  {
   "cell_type": "code",
   "execution_count": null,
   "metadata": {},
   "outputs": [],
   "source": []
  },
  {
   "cell_type": "markdown",
   "metadata": {},
   "source": [
    "Now here is our  grid search:"
   ]
  },
  {
   "cell_type": "code",
   "execution_count": 60,
   "metadata": {},
   "outputs": [],
   "source": [
    "modelxgboost <- train(SeriousDlqin2yrs~., \n",
    "                      data = trainDF,\n",
    "                      method = \"xgbTree\",\n",
    "                      trControl = ControlParameters,\n",
    "                      metric = \"ROC\",\n",
    "                      tuneGrid=ParametersGrid)"
   ]
  },
  {
   "cell_type": "markdown",
   "metadata": {},
   "source": [
    "The grid search results:"
   ]
  },
  {
   "cell_type": "code",
   "execution_count": 17,
   "metadata": {},
   "outputs": [
    {
     "data": {
      "text/plain": [
       "eXtreme Gradient Boosting \n",
       "\n",
       "120000 samples\n",
       "    26 predictors\n",
       "     2 classes: 'non.default', 'default' \n",
       "\n",
       "No pre-processing\n",
       "Resampling: Cross-Validated (5 fold) \n",
       "Summary of sample sizes: 96000, 96000, 96001, 96000, 95999 \n",
       "Resampling results across tuning parameters:\n",
       "\n",
       "  eta    max_depth  gamma  colsample_bytree  min_child_weight  ROC      \n",
       "  1e-04  10         2      0.75              0.5               0.8515231\n",
       "  1e-04  10         2      0.75              1.5               0.8491396\n",
       "  1e-04  10         2      1.00              0.5               0.8477986\n",
       "  1e-04  10         2      1.00              1.5               0.8478465\n",
       "  1e-04  10         3      0.75              0.5               0.8517686\n",
       "  1e-04  10         3      0.75              1.5               0.8482954\n",
       "  1e-04  10         3      1.00              0.5               0.8478319\n",
       "  1e-04  10         3      1.00              1.5               0.8479472\n",
       "  1e-04  15         2      0.75              0.5               0.8508954\n",
       "  1e-04  15         2      0.75              1.5               0.8493620\n",
       "  1e-04  15         2      1.00              0.5               0.8455939\n",
       "  1e-04  15         2      1.00              1.5               0.8457836\n",
       "  1e-04  15         3      0.75              0.5               0.8466324\n",
       "  1e-04  15         3      0.75              1.5               0.8490469\n",
       "  1e-04  15         3      1.00              0.5               0.8465071\n",
       "  1e-04  15         3      1.00              1.5               0.8465320\n",
       "  1e-04  20         2      0.75              0.5               0.8489230\n",
       "  1e-04  20         2      0.75              1.5               0.8495812\n",
       "  1e-04  20         2      1.00              0.5               0.8449755\n",
       "  1e-04  20         2      1.00              1.5               0.8450697\n",
       "  1e-04  20         3      0.75              0.5               0.8511131\n",
       "  1e-04  20         3      0.75              1.5               0.8479706\n",
       "  1e-04  20         3      1.00              0.5               0.8459132\n",
       "  1e-04  20         3      1.00              1.5               0.8460036\n",
       "  1e-03  10         2      0.75              0.5               0.8483187\n",
       "  1e-03  10         2      0.75              1.5               0.8470456\n",
       "  1e-03  10         2      1.00              0.5               0.8478593\n",
       "  1e-03  10         2      1.00              1.5               0.8478947\n",
       "  1e-03  10         3      0.75              0.5               0.8486472\n",
       "  1e-03  10         3      0.75              1.5               0.8489814\n",
       "  1e-03  10         3      1.00              0.5               0.8478744\n",
       "  1e-03  10         3      1.00              1.5               0.8479508\n",
       "  1e-03  15         2      0.75              0.5               0.8467386\n",
       "  1e-03  15         2      0.75              1.5               0.8486014\n",
       "  1e-03  15         2      1.00              0.5               0.8456791\n",
       "  1e-03  15         2      1.00              1.5               0.8460982\n",
       "  1e-03  15         3      0.75              0.5               0.8503940\n",
       "  1e-03  15         3      0.75              1.5               0.8485718\n",
       "  1e-03  15         3      1.00              0.5               0.8466460\n",
       "  1e-03  15         3      1.00              1.5               0.8469086\n",
       "  1e-03  20         2      0.75              0.5               0.8470265\n",
       "  1e-03  20         2      0.75              1.5               0.8455426\n",
       "  1e-03  20         2      1.00              0.5               0.8449345\n",
       "  1e-03  20         2      1.00              1.5               0.8454743\n",
       "  1e-03  20         3      0.75              0.5               0.8492256\n",
       "  1e-03  20         3      0.75              1.5               0.8474264\n",
       "  1e-03  20         3      1.00              0.5               0.8460213\n",
       "  1e-03  20         3      1.00              1.5               0.8463662\n",
       "  1e-02  10         2      0.75              0.5               0.8489955\n",
       "  1e-02  10         2      0.75              1.5               0.8526083\n",
       "  1e-02  10         2      1.00              0.5               0.8485828\n",
       "  1e-02  10         2      1.00              1.5               0.8485493\n",
       "  1e-02  10         3      0.75              0.5               0.8506889\n",
       "  1e-02  10         3      0.75              1.5               0.8483198\n",
       "  1e-02  10         3      1.00              0.5               0.8484976\n",
       "  1e-02  10         3      1.00              1.5               0.8485199\n",
       "  1e-02  15         2      0.75              0.5               0.8482977\n",
       "  1e-02  15         2      0.75              1.5               0.8480348\n",
       "  1e-02  15         2      1.00              0.5               0.8461325\n",
       "  1e-02  15         2      1.00              1.5               0.8468333\n",
       "  1e-02  15         3      0.75              0.5               0.8504907\n",
       "  1e-02  15         3      0.75              1.5               0.8502540\n",
       "  1e-02  15         3      1.00              0.5               0.8469432\n",
       "  1e-02  15         3      1.00              1.5               0.8475073\n",
       "  1e-02  20         2      0.75              0.5               0.8482675\n",
       "  1e-02  20         2      0.75              1.5               0.8453348\n",
       "  1e-02  20         2      1.00              0.5               0.8454329\n",
       "  1e-02  20         2      1.00              1.5               0.8463967\n",
       "  1e-02  20         3      0.75              0.5               0.8485044\n",
       "  1e-02  20         3      0.75              1.5               0.8504492\n",
       "  1e-02  20         3      1.00              0.5               0.8464498\n",
       "  1e-02  20         3      1.00              1.5               0.8470444\n",
       "  Sens       Spec     \n",
       "  0.9908014  0.1593377\n",
       "  0.9901851  0.1617026\n",
       "  0.9862556  0.1945903\n",
       "  0.9865503  0.1945904\n",
       "  0.9900512  0.1735357\n",
       "  0.9908371  0.1575974\n",
       "  0.9870237  0.1918504\n",
       "  0.9873630  0.1914778\n",
       "  0.9876309  0.1851210\n",
       "  0.9880686  0.1833811\n",
       "  0.9808525  0.2144007\n",
       "  0.9817903  0.2130292\n",
       "  0.9870683  0.1800171\n",
       "  0.9870505  0.1918545\n",
       "  0.9823976  0.2104135\n",
       "  0.9829602  0.2119092\n",
       "  0.9853179  0.2028144\n",
       "  0.9864700  0.1913527\n",
       "  0.9784412  0.2252392\n",
       "  0.9796112  0.2201297\n",
       "  0.9879078  0.1762833\n",
       "  0.9873987  0.1832583\n",
       "  0.9807364  0.2178888\n",
       "  0.9811472  0.2185115\n",
       "  0.9914533  0.1413904\n",
       "  0.9910246  0.1477494\n",
       "  0.9863896  0.1934691\n",
       "  0.9866397  0.1937184\n",
       "  0.9895689  0.1791409\n",
       "  0.9898905  0.1725454\n",
       "  0.9871308  0.1918503\n",
       "  0.9873362  0.1914774\n",
       "  0.9874255  0.1859946\n",
       "  0.9871308  0.1847514\n",
       "  0.9814688  0.2119088\n",
       "  0.9817188  0.2178871\n",
       "  0.9880775  0.1750358\n",
       "  0.9873898  0.1836307\n",
       "  0.9828709  0.2084204\n",
       "  0.9829066  0.2142753\n",
       "  0.9848892  0.2041816\n",
       "  0.9869076  0.1839978\n",
       "  0.9792093  0.2228718\n",
       "  0.9797898  0.2228702\n",
       "  0.9874970  0.1818826\n",
       "  0.9872738  0.1731705\n",
       "  0.9812455  0.2153976\n",
       "  0.9812276  0.2192587\n",
       "  0.9904441  0.1629492\n",
       "  0.9897743  0.1739080\n",
       "  0.9863806  0.1988255\n",
       "  0.9866664  0.1969569\n",
       "  0.9906942  0.1620790\n",
       "  0.9902655  0.1568556\n",
       "  0.9869969  0.1978299\n",
       "  0.9872827  0.1962106\n",
       "  0.9876488  0.1729154\n",
       "  0.9868808  0.1800197\n",
       "  0.9817188  0.2116590\n",
       "  0.9824958  0.2120326\n",
       "  0.9866396  0.1985771\n",
       "  0.9884793  0.1838734\n",
       "  0.9832817  0.2064270\n",
       "  0.9834156  0.2110367\n",
       "  0.9853804  0.1878680\n",
       "  0.9857733  0.1803887\n",
       "  0.9795308  0.2221239\n",
       "  0.9806382  0.2202540\n",
       "  0.9865325  0.1908544\n",
       "  0.9877024  0.1823792\n",
       "  0.9816831  0.2140269\n",
       "  0.9820314  0.2160201\n",
       "\n",
       "Tuning parameter 'nrounds' was held constant at a value of 2\n",
       "Tuning\n",
       " parameter 'subsample' was held constant at a value of 1\n",
       "ROC was used to select the optimal model using the largest value.\n",
       "The final values used for the model were nrounds = 2, max_depth = 10, eta\n",
       " = 0.01, gamma = 2, colsample_bytree = 0.75, min_child_weight = 1.5\n",
       " and subsample = 1."
      ]
     },
     "metadata": {},
     "output_type": "display_data"
    }
   ],
   "source": [
    "modelxgboost "
   ]
  },
  {
   "cell_type": "markdown",
   "metadata": {},
   "source": [
    "We extracted the best paramters from our grid search. Note that 'nrounds' was changed because it wasn't used in the grid search."
   ]
  },
  {
   "cell_type": "code",
   "execution_count": 59,
   "metadata": {},
   "outputs": [],
   "source": [
    "best.params <- c(nrounds = 50, max_depth = 10, eta= 0.01, gamma = 2, colsample_bytree = 0.75, \n",
    "                 min_child_weight = 1.5, subsample = 1)"
   ]
  },
  {
   "cell_type": "markdown",
   "metadata": {},
   "source": [
    "Caret allows us to automatically pull the prediction results from the best-performing parameters directly from the grid search object. We can then output an ROC using the pROC library."
   ]
  },
  {
   "cell_type": "code",
   "execution_count": 61,
   "metadata": {},
   "outputs": [
    {
     "data": {
      "text/html": [
       "0.852879741479308"
      ],
      "text/latex": [
       "0.852879741479308"
      ],
      "text/markdown": [
       "0.852879741479308"
      ],
      "text/plain": [
       "Area under the curve: 0.8529"
      ]
     },
     "metadata": {},
     "output_type": "display_data"
    }
   ],
   "source": [
    "result.roc <- roc(modelxgboost$pred$obs, modelxgboost$pred$default) \n",
    "result.roc$auc"
   ]
  },
  {
   "cell_type": "code",
   "execution_count": 62,
   "metadata": {},
   "outputs": [
    {
     "name": "stdout",
     "output_type": "stream",
     "text": [
      "threshold  accuracy \n",
      "0.4912505 0.7788500 \n"
     ]
    },
    {
     "data": {
      "image/png": "[encoded data removed]",
      "text/plain": [
       "plot without title"
      ]
     },
     "metadata": {},
     "output_type": "display_data"
    }
   ],
   "source": [
    "plot(result.roc, print.thres=\"best\", print.thres.best.method=\"closest.topleft\")\n",
    "result.coords <- coords(result.roc, \"best\", best.method=\"closest.topleft\", ret=c(\"threshold\", \"accuracy\"))\n",
    "print(result.coords)"
   ]
  },
  {
   "cell_type": "markdown",
   "metadata": {},
   "source": [
    "# Modeling: Logistic Regression"
   ]
  },
  {
   "cell_type": "markdown",
   "metadata": {},
   "source": [
    "In addition to the above methods, we wanted to try another 'simple' approach, that doesnt require extensive boosting or \n",
    "complicated hyperparameter spaces. The KNN model attempted to do this, but there are simple methods that are a little smarter, \n",
    "such as logistic regression. We used an elasticnet regularized logistic regression model. The logistic regression model is \n",
    "similar to linear regression, but the prediction of the model is transformed by a logit function, yielding predictions of \n",
    "class probability. The elasticnet regularization introduces two penalization terms. The first, is a LASSO penalization (using \n",
    "the L1 norm of the coefficients), and the second is a Ridge penalization (using the L2 norm of the coefficients). A parameter \n",
    "alpha is used to determine the balance between these two penalization terms, with alpha scaling LASSO and 1-alpha scaling Ridge. \n",
    "The whole regularization term is then multiplied by another parameter, lambda, which controls the overall size of the penalty. \n",
    "10-Fold cross validation found an optimal value of alpha at .85, and an optimal value of lambda at 0.000181342, with an average AUC between the folds of 0.8583. This outperformed even XGBoost, demonstrating the predictive power of simple classical techniques.\n",
    "\n"
   ]
  },
  {
   "cell_type": "code",
   "execution_count": null,
   "metadata": {},
   "outputs": [],
   "source": [
    "### function to standardize the data\n",
    "standardize <- function(cleanDataFinal){\n",
    "  cleanDataFinal <- as.matrix(cleanDataFinal)\n",
    "  data_standard <- matrix(nrow = 150000, ncol = 27)\n",
    "  data_standard[,1] <- cleanDataFinal[,1]\n",
    "  for(i in 2:ncol(cleanDataFinal)){ data_standard[,i] <- (cleanDataFinal[,i]-min(cleanDataFinal[,i]))/(max(cleanDataFinal[,i])-min(cleanDataFinal[,i]) )\n",
    "  }\n",
    "  return(data_standard)}\n",
    "\n",
    "data_standard <- standardize(cleanDataFinal)\n",
    "\n",
    "y <- as.factor(data_standard[,1])\n",
    "x <- data_standard[,2:27]\n",
    "\n",
    "# performs k-fold cross validation with 10 folds while looping over values of alpha ranging from zero to 1, each time \n",
    "# looping over autogenereated lambda values, returns the best auc and lambda and uses that model to predict the test data, \n",
    "# returns final auc score\n",
    "\n",
    "aucs <- c() \n",
    "for(i in 1:20){\n",
    "  log.regress <- cv.glmnet(x = x, y = y, family = \"binomial\", nfold = 10, type.measure=\"auc\", alpha = i/20)\n",
    "  auc <- log.regress$cvm[log.regress$lambda == log.regress$lambda.min]\n",
    "  lambda <- log.regress$lambda.min\n",
    "  aucs <- c(aucs,auc)\n",
    "}\n",
    "\n",
    "log.regress.best <- cv.glmnet(x = x, y = y, family = \"binomial\", nfold = 10, type.measure=\"auc\", alpha = which(max(aucs)==aucs)/20)\n",
    "auc.best <- log.regress.best$cvm[log.regress.best$lambda == log.regress.best$lambda.min] ### training data auc\n",
    "lambda.best <- log.regress.best$lambda.min ### best lambda value"
   ]
  },
  {
   "cell_type": "markdown",
   "metadata": {},
   "source": [
    "We also have an option of combining this method with the XGboost classifier in a learning ensemble. Since the AUC scores are roughly equal to the 3 decimal places, we can weight them evenly, or optionally weight them by their normalized AUC scores. We then ask each model to return their predicted class probabilities, and multiply them by the weight assigned to each model. This will yield the same prediction when both models agree on the class, but when the models disagree, will choose the classification of the model that is the most certain. If one classifier assigns a slightly above 50 percent probability of being in class one, and the other assigns a 10% probability, then the model will place it in class zero. We can apply this to the test set. "
   ]
  },
  {
   "cell_type": "code",
   "execution_count": null,
   "metadata": {},
   "outputs": [],
   "source": []
  },
  {
   "cell_type": "code",
   "execution_count": null,
   "metadata": {},
   "outputs": [],
   "source": []
  },
  {
   "cell_type": "markdown",
   "metadata": {},
   "source": [
    "# FINAL KAGGLE DATA"
   ]
  },
  {
   "cell_type": "markdown",
   "metadata": {},
   "source": [
    "Now that we have our final tuned and train model, we just need to run it on our test set. Firstly, we must apply on to our test set the exact same data transformations that we did on our training data."
   ]
  },
  {
   "cell_type": "code",
   "execution_count": 5,
   "metadata": {},
   "outputs": [],
   "source": [
    "df.test <- read.csv(\"cs-test.csv\")\n",
    "df.test <- df.test[,3:length(df.test)]\n"
   ]
  },
  {
   "cell_type": "code",
   "execution_count": 6,
   "metadata": {},
   "outputs": [
    {
     "data": {
      "text/plain": [
       " RevolvingUtilizationOfUnsecuredLines      age        \n",
       " Min.   :    0.000                    Min.   : 21.00  \n",
       " 1st Qu.:    0.030                    1st Qu.: 41.00  \n",
       " Median :    0.153                    Median : 52.00  \n",
       " Mean   :    5.310                    Mean   : 52.41  \n",
       " 3rd Qu.:    0.564                    3rd Qu.: 63.00  \n",
       " Max.   :21821.000                    Max.   :104.00  \n",
       "                                                      \n",
       " NumberOfTime30.59DaysPastDueNotWorse   DebtRatio         MonthlyIncome    \n",
       " Min.   : 0.0000                      Min.   :     0.00   Min.   :      0  \n",
       " 1st Qu.: 0.0000                      1st Qu.:     0.17   1st Qu.:   3408  \n",
       " Median : 0.0000                      Median :     0.36   Median :   5400  \n",
       " Mean   : 0.4538                      Mean   :   344.48   Mean   :   6855  \n",
       " 3rd Qu.: 0.0000                      3rd Qu.:     0.85   3rd Qu.:   8200  \n",
       " Max.   :98.0000                      Max.   :268326.00   Max.   :7727000  \n",
       "                                                          NA's   :20103    \n",
       " NumberOfOpenCreditLinesAndLoans NumberOfTimes90DaysLate\n",
       " Min.   : 0.000                  Min.   : 0.0000        \n",
       " 1st Qu.: 5.000                  1st Qu.: 0.0000        \n",
       " Median : 8.000                  Median : 0.0000        \n",
       " Mean   : 8.454                  Mean   : 0.2967        \n",
       " 3rd Qu.:11.000                  3rd Qu.: 0.0000        \n",
       " Max.   :85.000                  Max.   :98.0000        \n",
       "                                                        \n",
       " NumberRealEstateLoansOrLines NumberOfTime60.89DaysPastDueNotWorse\n",
       " Min.   : 0.000               Min.   : 0.0000                     \n",
       " 1st Qu.: 0.000               1st Qu.: 0.0000                     \n",
       " Median : 1.000               Median : 0.0000                     \n",
       " Mean   : 1.013               Mean   : 0.2703                     \n",
       " 3rd Qu.: 2.000               3rd Qu.: 0.0000                     \n",
       " Max.   :37.000               Max.   :98.0000                     \n",
       "                                                                  \n",
       " NumberOfDependents\n",
       " Min.   : 0.000    \n",
       " 1st Qu.: 0.000    \n",
       " Median : 0.000    \n",
       " Mean   : 0.769    \n",
       " 3rd Qu.: 1.000    \n",
       " Max.   :43.000    \n",
       " NA's   :2626      "
      ]
     },
     "metadata": {},
     "output_type": "display_data"
    }
   ],
   "source": [
    "summary ( df.test  )"
   ]
  },
  {
   "cell_type": "code",
   "execution_count": 15,
   "metadata": {},
   "outputs": [],
   "source": [
    "df.test <- ImputeMonthlyIncomeWithZeroForHighDR(df.test)\n",
    "data_imputed <- knn.impute(as.matrix(df.test),k=10,cat.var = c(3,6:10), to.impute = 1:nrow(df.test), using = 1:nrow(df.test))\n",
    "# write.csv(data_imputed, \"data_imputed.csv\") # save for quick retrieval for future runs\n",
    "df.test <- data_imputed\n",
    "df.test <- AddFeatures ( as.data.frame ( df.test ) )\n",
    "df.test <- WinsorizeHighRevolvingUtil( df.test, 0.02 ) \n",
    "df.test <- WinsorizeDebtRatio( df.test, 0.15 )\n",
    "df.test <- ExpandFeatureSpace ( df.test )\n",
    "\n",
    "# safety function for saving the cleaned data locally\n",
    "write.csv(df.test, \"cleaned-cs-test.csv\")"
   ]
  },
  {
   "cell_type": "code",
   "execution_count": 94,
   "metadata": {},
   "outputs": [],
   "source": []
  },
  {
   "cell_type": "code",
   "execution_count": 93,
   "metadata": {},
   "outputs": [
    {
     "data": {
      "text/html": [
       "<table>\n",
       "<thead><tr><th scope=col>X</th><th scope=col>SeriousDlqin2yrs</th><th scope=col>RevolvingUtilizationOfUnsecuredLines</th><th scope=col>age</th><th scope=col>NumberOfTime30.59DaysPastDueNotWorse</th><th scope=col>DebtRatio</th><th scope=col>MonthlyIncome</th><th scope=col>NumberOfOpenCreditLinesAndLoans</th><th scope=col>NumberOfTimes90DaysLate</th><th scope=col>NumberRealEstateLoansOrLines</th><th scope=col>⋯</th><th scope=col>NeverPastDue</th><th scope=col>NoIncome</th><th scope=col>LowIncome</th><th scope=col>HighIncome</th><th scope=col>IncomeToAgeRatio</th><th scope=col>LogIncomeToAgeRatio</th><th scope=col>LogRevolvingUtilization</th><th scope=col>LogDebtRatio</th><th scope=col>NeverPastDueXNumberOfLines</th><th scope=col>NeverPastDueXRealEstate</th></tr></thead>\n",
       "<tbody>\n",
       "\t<tr><td>1          </td><td>1          </td><td>0.7661266  </td><td>45         </td><td>2          </td><td>0.80298213 </td><td> 9120      </td><td>13         </td><td>0          </td><td>6          </td><td>⋯          </td><td>0          </td><td>0          </td><td>0          </td><td>0          </td><td> 202.66667 </td><td>5.311563   </td><td>-0.26640784</td><td>-0.2194228 </td><td>0          </td><td>0          </td></tr>\n",
       "\t<tr><td>2          </td><td>0          </td><td>0.9571510  </td><td>40         </td><td>0          </td><td>0.12187620 </td><td> 2600      </td><td> 4         </td><td>0          </td><td>0          </td><td>⋯          </td><td>1          </td><td>0          </td><td>0          </td><td>0          </td><td>  65.00000 </td><td>4.174387   </td><td>-0.04379410</td><td>-2.1047495 </td><td>4          </td><td>0          </td></tr>\n",
       "\t<tr><td>3          </td><td>0          </td><td>0.6581801  </td><td>38         </td><td>1          </td><td>0.08511338 </td><td> 3042      </td><td> 2         </td><td>1          </td><td>0          </td><td>⋯          </td><td>0          </td><td>0          </td><td>0          </td><td>0          </td><td>  80.05263 </td><td>4.382684   </td><td>-0.41827662</td><td>-2.4637711 </td><td>0          </td><td>0          </td></tr>\n",
       "\t<tr><td>4          </td><td>0          </td><td>0.2338098  </td><td>30         </td><td>0          </td><td>0.03604968 </td><td> 3300      </td><td> 5         </td><td>0          </td><td>0          </td><td>⋯          </td><td>1          </td><td>0          </td><td>0          </td><td>0          </td><td> 110.00000 </td><td>4.700480   </td><td>-1.45324742</td><td>-3.3228572 </td><td>5          </td><td>0          </td></tr>\n",
       "\t<tr><td>5          </td><td>0          </td><td>0.9072394  </td><td>49         </td><td>1          </td><td>0.02492570 </td><td>63588      </td><td> 7         </td><td>0          </td><td>1          </td><td>⋯          </td><td>0          </td><td>0          </td><td>0          </td><td>1          </td><td>1297.71429 </td><td>7.168360   </td><td>-0.09734892</td><td>-3.6918561 </td><td>0          </td><td>0          </td></tr>\n",
       "\t<tr><td>6          </td><td>0          </td><td>0.2131787  </td><td>74         </td><td>0          </td><td>0.37560697 </td><td> 3500      </td><td> 3         </td><td>0          </td><td>1          </td><td>⋯          </td><td>1          </td><td>0          </td><td>0          </td><td>0          </td><td>  47.29730 </td><td>3.856453   </td><td>-1.54562458</td><td>-0.9792120 </td><td>3          </td><td>1          </td></tr>\n",
       "</tbody>\n",
       "</table>\n"
      ],
      "text/latex": [
       "\\begin{tabular}{r|llllllllllllllllllllllllllll}\n",
       " X & SeriousDlqin2yrs & RevolvingUtilizationOfUnsecuredLines & age & NumberOfTime30.59DaysPastDueNotWorse & DebtRatio & MonthlyIncome & NumberOfOpenCreditLinesAndLoans & NumberOfTimes90DaysLate & NumberRealEstateLoansOrLines & ⋯ & NeverPastDue & NoIncome & LowIncome & HighIncome & IncomeToAgeRatio & LogIncomeToAgeRatio & LogRevolvingUtilization & LogDebtRatio & NeverPastDueXNumberOfLines & NeverPastDueXRealEstate\\\\\n",
       "\\hline\n",
       "\t 1           & 1           & 0.7661266   & 45          & 2           & 0.80298213  &  9120       & 13          & 0           & 6           & ⋯           & 0           & 0           & 0           & 0           &  202.66667  & 5.311563    & -0.26640784 & -0.2194228  & 0           & 0          \\\\\n",
       "\t 2           & 0           & 0.9571510   & 40          & 0           & 0.12187620  &  2600       &  4          & 0           & 0           & ⋯           & 1           & 0           & 0           & 0           &   65.00000  & 4.174387    & -0.04379410 & -2.1047495  & 4           & 0          \\\\\n",
       "\t 3           & 0           & 0.6581801   & 38          & 1           & 0.08511338  &  3042       &  2          & 1           & 0           & ⋯           & 0           & 0           & 0           & 0           &   80.05263  & 4.382684    & -0.41827662 & -2.4637711  & 0           & 0          \\\\\n",
       "\t 4           & 0           & 0.2338098   & 30          & 0           & 0.03604968  &  3300       &  5          & 0           & 0           & ⋯           & 1           & 0           & 0           & 0           &  110.00000  & 4.700480    & -1.45324742 & -3.3228572  & 5           & 0          \\\\\n",
       "\t 5           & 0           & 0.9072394   & 49          & 1           & 0.02492570  & 63588       &  7          & 0           & 1           & ⋯           & 0           & 0           & 0           & 1           & 1297.71429  & 7.168360    & -0.09734892 & -3.6918561  & 0           & 0          \\\\\n",
       "\t 6           & 0           & 0.2131787   & 74          & 0           & 0.37560697  &  3500       &  3          & 0           & 1           & ⋯           & 1           & 0           & 0           & 0           &   47.29730  & 3.856453    & -1.54562458 & -0.9792120  & 3           & 1          \\\\\n",
       "\\end{tabular}\n"
      ],
      "text/markdown": [
       "\n",
       "X | SeriousDlqin2yrs | RevolvingUtilizationOfUnsecuredLines | age | NumberOfTime30.59DaysPastDueNotWorse | DebtRatio | MonthlyIncome | NumberOfOpenCreditLinesAndLoans | NumberOfTimes90DaysLate | NumberRealEstateLoansOrLines | ⋯ | NeverPastDue | NoIncome | LowIncome | HighIncome | IncomeToAgeRatio | LogIncomeToAgeRatio | LogRevolvingUtilization | LogDebtRatio | NeverPastDueXNumberOfLines | NeverPastDueXRealEstate | \n",
       "|---|---|---|---|---|---|\n",
       "| 1           | 1           | 0.7661266   | 45          | 2           | 0.80298213  |  9120       | 13          | 0           | 6           | ⋯           | 0           | 0           | 0           | 0           |  202.66667  | 5.311563    | -0.26640784 | -0.2194228  | 0           | 0           | \n",
       "| 2           | 0           | 0.9571510   | 40          | 0           | 0.12187620  |  2600       |  4          | 0           | 0           | ⋯           | 1           | 0           | 0           | 0           |   65.00000  | 4.174387    | -0.04379410 | -2.1047495  | 4           | 0           | \n",
       "| 3           | 0           | 0.6581801   | 38          | 1           | 0.08511338  |  3042       |  2          | 1           | 0           | ⋯           | 0           | 0           | 0           | 0           |   80.05263  | 4.382684    | -0.41827662 | -2.4637711  | 0           | 0           | \n",
       "| 4           | 0           | 0.2338098   | 30          | 0           | 0.03604968  |  3300       |  5          | 0           | 0           | ⋯           | 1           | 0           | 0           | 0           |  110.00000  | 4.700480    | -1.45324742 | -3.3228572  | 5           | 0           | \n",
       "| 5           | 0           | 0.9072394   | 49          | 1           | 0.02492570  | 63588       |  7          | 0           | 1           | ⋯           | 0           | 0           | 0           | 1           | 1297.71429  | 7.168360    | -0.09734892 | -3.6918561  | 0           | 0           | \n",
       "| 6           | 0           | 0.2131787   | 74          | 0           | 0.37560697  |  3500       |  3          | 0           | 1           | ⋯           | 1           | 0           | 0           | 0           |   47.29730  | 3.856453    | -1.54562458 | -0.9792120  | 3           | 1           | \n",
       "\n",
       "\n"
      ],
      "text/plain": [
       "  X SeriousDlqin2yrs RevolvingUtilizationOfUnsecuredLines age\n",
       "1 1 1                0.7661266                            45 \n",
       "2 2 0                0.9571510                            40 \n",
       "3 3 0                0.6581801                            38 \n",
       "4 4 0                0.2338098                            30 \n",
       "5 5 0                0.9072394                            49 \n",
       "6 6 0                0.2131787                            74 \n",
       "  NumberOfTime30.59DaysPastDueNotWorse DebtRatio  MonthlyIncome\n",
       "1 2                                    0.80298213  9120        \n",
       "2 0                                    0.12187620  2600        \n",
       "3 1                                    0.08511338  3042        \n",
       "4 0                                    0.03604968  3300        \n",
       "5 1                                    0.02492570 63588        \n",
       "6 0                                    0.37560697  3500        \n",
       "  NumberOfOpenCreditLinesAndLoans NumberOfTimes90DaysLate\n",
       "1 13                              0                      \n",
       "2  4                              0                      \n",
       "3  2                              1                      \n",
       "4  5                              0                      \n",
       "5  7                              0                      \n",
       "6  3                              0                      \n",
       "  NumberRealEstateLoansOrLines ⋯ NeverPastDue NoIncome LowIncome HighIncome\n",
       "1 6                            ⋯ 0            0        0         0         \n",
       "2 0                            ⋯ 1            0        0         0         \n",
       "3 0                            ⋯ 0            0        0         0         \n",
       "4 0                            ⋯ 1            0        0         0         \n",
       "5 1                            ⋯ 0            0        0         1         \n",
       "6 1                            ⋯ 1            0        0         0         \n",
       "  IncomeToAgeRatio LogIncomeToAgeRatio LogRevolvingUtilization LogDebtRatio\n",
       "1  202.66667       5.311563            -0.26640784             -0.2194228  \n",
       "2   65.00000       4.174387            -0.04379410             -2.1047495  \n",
       "3   80.05263       4.382684            -0.41827662             -2.4637711  \n",
       "4  110.00000       4.700480            -1.45324742             -3.3228572  \n",
       "5 1297.71429       7.168360            -0.09734892             -3.6918561  \n",
       "6   47.29730       3.856453            -1.54562458             -0.9792120  \n",
       "  NeverPastDueXNumberOfLines NeverPastDueXRealEstate\n",
       "1 0                          0                      \n",
       "2 4                          0                      \n",
       "3 0                          0                      \n",
       "4 5                          0                      \n",
       "5 0                          0                      \n",
       "6 3                          1                      "
      ]
     },
     "metadata": {},
     "output_type": "display_data"
    }
   ],
   "source": [
    "head(df.test)"
   ]
  },
  {
   "cell_type": "markdown",
   "metadata": {},
   "source": [
    "Now that are test data is cleaned and transformed, we can feed it into our trained model to obtain a prediction."
   ]
  },
  {
   "cell_type": "code",
   "execution_count": null,
   "metadata": {},
   "outputs": [],
   "source": [
    "prediction <- predict(modelxgboost, df.test, type = \"prob\")\n",
    "output.xg <- prediction[,2]\n",
    "\n",
    "data_standard_test <- standardize(df.test)\n",
    "x_test <- data_standard_test[,2:27]\n",
    "y_test <- as.factor(data_standard_test[,1])\n",
    "output.lr <- predict(log.regress.best, newx = x_test, s = \"lambda.min\", type = \"response\")\n",
    "\n",
    "output.ensemble <- .5*output.lr + .5*output.xg"
   ]
  },
  {
   "cell_type": "code",
   "execution_count": null,
   "metadata": {},
   "outputs": [],
   "source": []
  },
  {
   "cell_type": "code",
   "execution_count": 76,
   "metadata": {},
   "outputs": [
    {
     "data": {
      "text/html": [
       "<table>\n",
       "<thead><tr><th></th><th scope=col>X</th><th scope=col>SeriousDlqin2yrs</th><th scope=col>RevolvingUtilizationOfUnsecuredLines</th><th scope=col>age</th><th scope=col>NumberOfTime30.59DaysPastDueNotWorse</th><th scope=col>DebtRatio</th><th scope=col>MonthlyIncome</th><th scope=col>NumberOfOpenCreditLinesAndLoans</th><th scope=col>NumberOfTimes90DaysLate</th><th scope=col>NumberRealEstateLoansOrLines</th><th scope=col>NumberOfTime60.89DaysPastDueNotWorse</th><th scope=col>NumberOfDependents</th></tr></thead>\n",
       "<tbody>\n",
       "\t<tr><th scope=row>X</th><td> 1.0000000000</td><td>NA           </td><td> 0.0006923819</td><td> 0.001877057 </td><td>-0.0039925307</td><td>-0.0002818926</td><td>NA           </td><td> 0.004621144 </td><td>-0.003858941 </td><td> 0.001547082 </td><td>-0.0039766675</td><td>NA           </td></tr>\n",
       "\t<tr><th scope=row>SeriousDlqin2yrs</th><td>           NA</td><td> 1           </td><td>           NA</td><td>          NA </td><td>           NA</td><td>           NA</td><td>NA           </td><td>          NA </td><td>          NA </td><td>          NA </td><td>           NA</td><td>NA           </td></tr>\n",
       "\t<tr><th scope=row>RevolvingUtilizationOfUnsecuredLines</th><td> 0.0006923819</td><td>NA           </td><td> 1.0000000000</td><td>-0.007230789 </td><td>-0.0005810942</td><td> 0.0038408188</td><td>NA           </td><td>-0.011109573 </td><td>-0.001317423 </td><td> 0.003976186 </td><td>-0.0009165781</td><td>NA           </td></tr>\n",
       "\t<tr><th scope=row>age</th><td> 0.0018770572</td><td>NA           </td><td>-0.0072307887</td><td> 1.000000000 </td><td>-0.0692265977</td><td> 0.0344937645</td><td>NA           </td><td> 0.143787663 </td><td>-0.067605503 </td><td> 0.026705504 </td><td>-0.0631669107</td><td>NA           </td></tr>\n",
       "\t<tr><th scope=row>NumberOfTime30.59DaysPastDueNotWorse</th><td>-0.0039925307</td><td>NA           </td><td>-0.0005810942</td><td>-0.069226598 </td><td> 1.0000000000</td><td>-0.0085607306</td><td>NA           </td><td>-0.060938004 </td><td> 0.985684867 </td><td>-0.035426655 </td><td> 0.9887997054</td><td>NA           </td></tr>\n",
       "\t<tr><th scope=row>DebtRatio</th><td>-0.0002818926</td><td>NA           </td><td> 0.0038408188</td><td> 0.034493765 </td><td>-0.0085607306</td><td> 1.0000000000</td><td>NA           </td><td> 0.065111562 </td><td>-0.011119694 </td><td> 0.129233579 </td><td>-0.0099717504</td><td>NA           </td></tr>\n",
       "\t<tr><th scope=row>MonthlyIncome</th><td>           NA</td><td>NA           </td><td>           NA</td><td>          NA </td><td>           NA</td><td>           NA</td><td> 1           </td><td>          NA </td><td>          NA </td><td>          NA </td><td>           NA</td><td>NA           </td></tr>\n",
       "\t<tr><th scope=row>NumberOfOpenCreditLinesAndLoans</th><td> 0.0046211436</td><td>NA           </td><td>-0.0111095731</td><td> 0.143787663 </td><td>-0.0609380043</td><td> 0.0651115617</td><td>NA           </td><td> 1.000000000 </td><td>-0.084974356 </td><td> 0.431141315 </td><td>-0.0761879095</td><td>NA           </td></tr>\n",
       "\t<tr><th scope=row>NumberOfTimes90DaysLate</th><td>-0.0038589408</td><td>NA           </td><td>-0.0013174230</td><td>-0.067605503 </td><td> 0.9856848673</td><td>-0.0111196938</td><td>NA           </td><td>-0.084974356 </td><td> 1.000000000 </td><td>-0.049169681 </td><td> 0.9941110542</td><td>NA           </td></tr>\n",
       "\t<tr><th scope=row>NumberRealEstateLoansOrLines</th><td> 0.0015470819</td><td>NA           </td><td> 0.0039761861</td><td> 0.026705504 </td><td>-0.0354266554</td><td> 0.1292335787</td><td>NA           </td><td> 0.431141315 </td><td>-0.049169681 </td><td> 1.000000000 </td><td>-0.0432921973</td><td>NA           </td></tr>\n",
       "\t<tr><th scope=row>NumberOfTime60.89DaysPastDueNotWorse</th><td>-0.0039766675</td><td>NA           </td><td>-0.0009165781</td><td>-0.063166911 </td><td> 0.9887997054</td><td>-0.0099717504</td><td>NA           </td><td>-0.076187909 </td><td> 0.994111054 </td><td>-0.043292197 </td><td> 1.0000000000</td><td>NA           </td></tr>\n",
       "\t<tr><th scope=row>NumberOfDependents</th><td>           NA</td><td>NA           </td><td>           NA</td><td>          NA </td><td>           NA</td><td>           NA</td><td>NA           </td><td>          NA </td><td>          NA </td><td>          NA </td><td>           NA</td><td> 1           </td></tr>\n",
       "</tbody>\n",
       "</table>\n"
      ],
      "text/latex": [
       "\\begin{tabular}{r|llllllllllll}\n",
       "  & X & SeriousDlqin2yrs & RevolvingUtilizationOfUnsecuredLines & age & NumberOfTime30.59DaysPastDueNotWorse & DebtRatio & MonthlyIncome & NumberOfOpenCreditLinesAndLoans & NumberOfTimes90DaysLate & NumberRealEstateLoansOrLines & NumberOfTime60.89DaysPastDueNotWorse & NumberOfDependents\\\\\n",
       "\\hline\n",
       "\tX &  1.0000000000 & NA            &  0.0006923819 &  0.001877057  & -0.0039925307 & -0.0002818926 & NA            &  0.004621144  & -0.003858941  &  0.001547082  & -0.0039766675 & NA           \\\\\n",
       "\tSeriousDlqin2yrs &            NA &  1            &            NA &           NA  &            NA &            NA & NA            &           NA  &           NA  &           NA  &            NA & NA           \\\\\n",
       "\tRevolvingUtilizationOfUnsecuredLines &  0.0006923819 & NA            &  1.0000000000 & -0.007230789  & -0.0005810942 &  0.0038408188 & NA            & -0.011109573  & -0.001317423  &  0.003976186  & -0.0009165781 & NA           \\\\\n",
       "\tage &  0.0018770572 & NA            & -0.0072307887 &  1.000000000  & -0.0692265977 &  0.0344937645 & NA            &  0.143787663  & -0.067605503  &  0.026705504  & -0.0631669107 & NA           \\\\\n",
       "\tNumberOfTime30.59DaysPastDueNotWorse & -0.0039925307 & NA            & -0.0005810942 & -0.069226598  &  1.0000000000 & -0.0085607306 & NA            & -0.060938004  &  0.985684867  & -0.035426655  &  0.9887997054 & NA           \\\\\n",
       "\tDebtRatio & -0.0002818926 & NA            &  0.0038408188 &  0.034493765  & -0.0085607306 &  1.0000000000 & NA            &  0.065111562  & -0.011119694  &  0.129233579  & -0.0099717504 & NA           \\\\\n",
       "\tMonthlyIncome &            NA & NA            &            NA &           NA  &            NA &            NA &  1            &           NA  &           NA  &           NA  &            NA & NA           \\\\\n",
       "\tNumberOfOpenCreditLinesAndLoans &  0.0046211436 & NA            & -0.0111095731 &  0.143787663  & -0.0609380043 &  0.0651115617 & NA            &  1.000000000  & -0.084974356  &  0.431141315  & -0.0761879095 & NA           \\\\\n",
       "\tNumberOfTimes90DaysLate & -0.0038589408 & NA            & -0.0013174230 & -0.067605503  &  0.9856848673 & -0.0111196938 & NA            & -0.084974356  &  1.000000000  & -0.049169681  &  0.9941110542 & NA           \\\\\n",
       "\tNumberRealEstateLoansOrLines &  0.0015470819 & NA            &  0.0039761861 &  0.026705504  & -0.0354266554 &  0.1292335787 & NA            &  0.431141315  & -0.049169681  &  1.000000000  & -0.0432921973 & NA           \\\\\n",
       "\tNumberOfTime60.89DaysPastDueNotWorse & -0.0039766675 & NA            & -0.0009165781 & -0.063166911  &  0.9887997054 & -0.0099717504 & NA            & -0.076187909  &  0.994111054  & -0.043292197  &  1.0000000000 & NA           \\\\\n",
       "\tNumberOfDependents &            NA & NA            &            NA &           NA  &            NA &            NA & NA            &           NA  &           NA  &           NA  &            NA &  1           \\\\\n",
       "\\end{tabular}\n"
      ],
      "text/markdown": [
       "\n",
       "| <!--/--> | X | SeriousDlqin2yrs | RevolvingUtilizationOfUnsecuredLines | age | NumberOfTime30.59DaysPastDueNotWorse | DebtRatio | MonthlyIncome | NumberOfOpenCreditLinesAndLoans | NumberOfTimes90DaysLate | NumberRealEstateLoansOrLines | NumberOfTime60.89DaysPastDueNotWorse | NumberOfDependents | \n",
       "|---|---|---|---|---|---|---|---|---|---|---|---|\n",
       "| X |  1.0000000000 | NA            |  0.0006923819 |  0.001877057  | -0.0039925307 | -0.0002818926 | NA            |  0.004621144  | -0.003858941  |  0.001547082  | -0.0039766675 | NA            | \n",
       "| SeriousDlqin2yrs |            NA |  1            |            NA |           NA  |            NA |            NA | NA            |           NA  |           NA  |           NA  |            NA | NA            | \n",
       "| RevolvingUtilizationOfUnsecuredLines |  0.0006923819 | NA            |  1.0000000000 | -0.007230789  | -0.0005810942 |  0.0038408188 | NA            | -0.011109573  | -0.001317423  |  0.003976186  | -0.0009165781 | NA            | \n",
       "| age |  0.0018770572 | NA            | -0.0072307887 |  1.000000000  | -0.0692265977 |  0.0344937645 | NA            |  0.143787663  | -0.067605503  |  0.026705504  | -0.0631669107 | NA            | \n",
       "| NumberOfTime30.59DaysPastDueNotWorse | -0.0039925307 | NA            | -0.0005810942 | -0.069226598  |  1.0000000000 | -0.0085607306 | NA            | -0.060938004  |  0.985684867  | -0.035426655  |  0.9887997054 | NA            | \n",
       "| DebtRatio | -0.0002818926 | NA            |  0.0038408188 |  0.034493765  | -0.0085607306 |  1.0000000000 | NA            |  0.065111562  | -0.011119694  |  0.129233579  | -0.0099717504 | NA            | \n",
       "| MonthlyIncome |            NA | NA            |            NA |           NA  |            NA |            NA |  1            |           NA  |           NA  |           NA  |            NA | NA            | \n",
       "| NumberOfOpenCreditLinesAndLoans |  0.0046211436 | NA            | -0.0111095731 |  0.143787663  | -0.0609380043 |  0.0651115617 | NA            |  1.000000000  | -0.084974356  |  0.431141315  | -0.0761879095 | NA            | \n",
       "| NumberOfTimes90DaysLate | -0.0038589408 | NA            | -0.0013174230 | -0.067605503  |  0.9856848673 | -0.0111196938 | NA            | -0.084974356  |  1.000000000  | -0.049169681  |  0.9941110542 | NA            | \n",
       "| NumberRealEstateLoansOrLines |  0.0015470819 | NA            |  0.0039761861 |  0.026705504  | -0.0354266554 |  0.1292335787 | NA            |  0.431141315  | -0.049169681  |  1.000000000  | -0.0432921973 | NA            | \n",
       "| NumberOfTime60.89DaysPastDueNotWorse | -0.0039766675 | NA            | -0.0009165781 | -0.063166911  |  0.9887997054 | -0.0099717504 | NA            | -0.076187909  |  0.994111054  | -0.043292197  |  1.0000000000 | NA            | \n",
       "| NumberOfDependents |            NA | NA            |            NA |           NA  |            NA |            NA | NA            |           NA  |           NA  |           NA  |            NA |  1            | \n",
       "\n",
       "\n"
      ],
      "text/plain": [
       "                                     X             SeriousDlqin2yrs\n",
       "X                                     1.0000000000 NA              \n",
       "SeriousDlqin2yrs                                NA  1              \n",
       "RevolvingUtilizationOfUnsecuredLines  0.0006923819 NA              \n",
       "age                                   0.0018770572 NA              \n",
       "NumberOfTime30.59DaysPastDueNotWorse -0.0039925307 NA              \n",
       "DebtRatio                            -0.0002818926 NA              \n",
       "MonthlyIncome                                   NA NA              \n",
       "NumberOfOpenCreditLinesAndLoans       0.0046211436 NA              \n",
       "NumberOfTimes90DaysLate              -0.0038589408 NA              \n",
       "NumberRealEstateLoansOrLines          0.0015470819 NA              \n",
       "NumberOfTime60.89DaysPastDueNotWorse -0.0039766675 NA              \n",
       "NumberOfDependents                              NA NA              \n",
       "                                     RevolvingUtilizationOfUnsecuredLines\n",
       "X                                     0.0006923819                       \n",
       "SeriousDlqin2yrs                                NA                       \n",
       "RevolvingUtilizationOfUnsecuredLines  1.0000000000                       \n",
       "age                                  -0.0072307887                       \n",
       "NumberOfTime30.59DaysPastDueNotWorse -0.0005810942                       \n",
       "DebtRatio                             0.0038408188                       \n",
       "MonthlyIncome                                   NA                       \n",
       "NumberOfOpenCreditLinesAndLoans      -0.0111095731                       \n",
       "NumberOfTimes90DaysLate              -0.0013174230                       \n",
       "NumberRealEstateLoansOrLines          0.0039761861                       \n",
       "NumberOfTime60.89DaysPastDueNotWorse -0.0009165781                       \n",
       "NumberOfDependents                              NA                       \n",
       "                                     age         \n",
       "X                                     0.001877057\n",
       "SeriousDlqin2yrs                               NA\n",
       "RevolvingUtilizationOfUnsecuredLines -0.007230789\n",
       "age                                   1.000000000\n",
       "NumberOfTime30.59DaysPastDueNotWorse -0.069226598\n",
       "DebtRatio                             0.034493765\n",
       "MonthlyIncome                                  NA\n",
       "NumberOfOpenCreditLinesAndLoans       0.143787663\n",
       "NumberOfTimes90DaysLate              -0.067605503\n",
       "NumberRealEstateLoansOrLines          0.026705504\n",
       "NumberOfTime60.89DaysPastDueNotWorse -0.063166911\n",
       "NumberOfDependents                             NA\n",
       "                                     NumberOfTime30.59DaysPastDueNotWorse\n",
       "X                                    -0.0039925307                       \n",
       "SeriousDlqin2yrs                                NA                       \n",
       "RevolvingUtilizationOfUnsecuredLines -0.0005810942                       \n",
       "age                                  -0.0692265977                       \n",
       "NumberOfTime30.59DaysPastDueNotWorse  1.0000000000                       \n",
       "DebtRatio                            -0.0085607306                       \n",
       "MonthlyIncome                                   NA                       \n",
       "NumberOfOpenCreditLinesAndLoans      -0.0609380043                       \n",
       "NumberOfTimes90DaysLate               0.9856848673                       \n",
       "NumberRealEstateLoansOrLines         -0.0354266554                       \n",
       "NumberOfTime60.89DaysPastDueNotWorse  0.9887997054                       \n",
       "NumberOfDependents                              NA                       \n",
       "                                     DebtRatio     MonthlyIncome\n",
       "X                                    -0.0002818926 NA           \n",
       "SeriousDlqin2yrs                                NA NA           \n",
       "RevolvingUtilizationOfUnsecuredLines  0.0038408188 NA           \n",
       "age                                   0.0344937645 NA           \n",
       "NumberOfTime30.59DaysPastDueNotWorse -0.0085607306 NA           \n",
       "DebtRatio                             1.0000000000 NA           \n",
       "MonthlyIncome                                   NA  1           \n",
       "NumberOfOpenCreditLinesAndLoans       0.0651115617 NA           \n",
       "NumberOfTimes90DaysLate              -0.0111196938 NA           \n",
       "NumberRealEstateLoansOrLines          0.1292335787 NA           \n",
       "NumberOfTime60.89DaysPastDueNotWorse -0.0099717504 NA           \n",
       "NumberOfDependents                              NA NA           \n",
       "                                     NumberOfOpenCreditLinesAndLoans\n",
       "X                                     0.004621144                   \n",
       "SeriousDlqin2yrs                               NA                   \n",
       "RevolvingUtilizationOfUnsecuredLines -0.011109573                   \n",
       "age                                   0.143787663                   \n",
       "NumberOfTime30.59DaysPastDueNotWorse -0.060938004                   \n",
       "DebtRatio                             0.065111562                   \n",
       "MonthlyIncome                                  NA                   \n",
       "NumberOfOpenCreditLinesAndLoans       1.000000000                   \n",
       "NumberOfTimes90DaysLate              -0.084974356                   \n",
       "NumberRealEstateLoansOrLines          0.431141315                   \n",
       "NumberOfTime60.89DaysPastDueNotWorse -0.076187909                   \n",
       "NumberOfDependents                             NA                   \n",
       "                                     NumberOfTimes90DaysLate\n",
       "X                                    -0.003858941           \n",
       "SeriousDlqin2yrs                               NA           \n",
       "RevolvingUtilizationOfUnsecuredLines -0.001317423           \n",
       "age                                  -0.067605503           \n",
       "NumberOfTime30.59DaysPastDueNotWorse  0.985684867           \n",
       "DebtRatio                            -0.011119694           \n",
       "MonthlyIncome                                  NA           \n",
       "NumberOfOpenCreditLinesAndLoans      -0.084974356           \n",
       "NumberOfTimes90DaysLate               1.000000000           \n",
       "NumberRealEstateLoansOrLines         -0.049169681           \n",
       "NumberOfTime60.89DaysPastDueNotWorse  0.994111054           \n",
       "NumberOfDependents                             NA           \n",
       "                                     NumberRealEstateLoansOrLines\n",
       "X                                     0.001547082                \n",
       "SeriousDlqin2yrs                               NA                \n",
       "RevolvingUtilizationOfUnsecuredLines  0.003976186                \n",
       "age                                   0.026705504                \n",
       "NumberOfTime30.59DaysPastDueNotWorse -0.035426655                \n",
       "DebtRatio                             0.129233579                \n",
       "MonthlyIncome                                  NA                \n",
       "NumberOfOpenCreditLinesAndLoans       0.431141315                \n",
       "NumberOfTimes90DaysLate              -0.049169681                \n",
       "NumberRealEstateLoansOrLines          1.000000000                \n",
       "NumberOfTime60.89DaysPastDueNotWorse -0.043292197                \n",
       "NumberOfDependents                             NA                \n",
       "                                     NumberOfTime60.89DaysPastDueNotWorse\n",
       "X                                    -0.0039766675                       \n",
       "SeriousDlqin2yrs                                NA                       \n",
       "RevolvingUtilizationOfUnsecuredLines -0.0009165781                       \n",
       "age                                  -0.0631669107                       \n",
       "NumberOfTime30.59DaysPastDueNotWorse  0.9887997054                       \n",
       "DebtRatio                            -0.0099717504                       \n",
       "MonthlyIncome                                   NA                       \n",
       "NumberOfOpenCreditLinesAndLoans      -0.0761879095                       \n",
       "NumberOfTimes90DaysLate               0.9941110542                       \n",
       "NumberRealEstateLoansOrLines         -0.0432921973                       \n",
       "NumberOfTime60.89DaysPastDueNotWorse  1.0000000000                       \n",
       "NumberOfDependents                              NA                       \n",
       "                                     NumberOfDependents\n",
       "X                                    NA                \n",
       "SeriousDlqin2yrs                     NA                \n",
       "RevolvingUtilizationOfUnsecuredLines NA                \n",
       "age                                  NA                \n",
       "NumberOfTime30.59DaysPastDueNotWorse NA                \n",
       "DebtRatio                            NA                \n",
       "MonthlyIncome                        NA                \n",
       "NumberOfOpenCreditLinesAndLoans      NA                \n",
       "NumberOfTimes90DaysLate              NA                \n",
       "NumberRealEstateLoansOrLines         NA                \n",
       "NumberOfTime60.89DaysPastDueNotWorse NA                \n",
       "NumberOfDependents                    1                "
      ]
     },
     "metadata": {},
     "output_type": "display_data"
    }
   ],
   "source": [
    "cor ( df.test )"
   ]
  },
  {
   "cell_type": "code",
   "execution_count": null,
   "metadata": {},
   "outputs": [],
   "source": []
  },
  {
   "cell_type": "code",
   "execution_count": null,
   "metadata": {},
   "outputs": [],
   "source": []
  },
  {
   "cell_type": "code",
   "execution_count": null,
   "metadata": {},
   "outputs": [],
   "source": []
  },
  {
   "cell_type": "code",
   "execution_count": null,
   "metadata": {},
   "outputs": [],
   "source": []
  }
 ],
 "metadata": {
  "kernelspec": {
   "display_name": "R",
   "language": "R",
   "name": "ir"
  },
  "language_info": {
   "codemirror_mode": "r",
   "file_extension": ".r",
   "mimetype": "text/x-r-source",
   "name": "R",
   "pygments_lexer": "r",
   "version": "3.5.1"
  }
 },
 "nbformat": 4,
 "nbformat_minor": 2
}
